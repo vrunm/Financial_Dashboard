{
  "nbformat": 4,
  "nbformat_minor": 0,
  "metadata": {
    "colab": {
      "provenance": [],
      "collapsed_sections": [
        "EI7Ci9Ar9L3y",
        "Nc_WuwUn-urN",
        "faKj5ZTY_oRJ",
        "sLRx2p0e_88X",
        "O1_8oV-E-iVe"
      ],
      "authorship_tag": "ABX9TyMrwQxDwKLRBwnA0R5UlQun",
      "include_colab_link": true
    },
    "kernelspec": {
      "name": "python3",
      "display_name": "Python 3"
    },
    "language_info": {
      "name": "python"
    }
  },
  "cells": [
    {
      "cell_type": "markdown",
      "metadata": {
        "id": "view-in-github",
        "colab_type": "text"
      },
      "source": [
        "<a href=\"https://colab.research.google.com/github/utkarshbelkhede/Financial_Dashboard/blob/master/notebooks/8_Topic_Extraction_RakeNLTK.ipynb\" target=\"_parent\"><img src=\"https://colab.research.google.com/assets/colab-badge.svg\" alt=\"Open In Colab\"/></a>"
      ]
    },
    {
      "cell_type": "markdown",
      "source": [
        "#### 1. Setting up Working Directory"
      ],
      "metadata": {
        "id": "EI7Ci9Ar9L3y"
      }
    },
    {
      "cell_type": "code",
      "execution_count": 1,
      "metadata": {
        "colab": {
          "base_uri": "https://localhost:8080/"
        },
        "id": "ra2POs2vZdQG",
        "outputId": "f04d8704-a053-4234-b629-40d39021d1d6"
      },
      "outputs": [
        {
          "output_type": "stream",
          "name": "stdout",
          "text": [
            "Mounted at /content/drive\n"
          ]
        }
      ],
      "source": [
        "from google.colab import drive\n",
        "drive.mount('/content/drive')"
      ]
    },
    {
      "cell_type": "code",
      "source": [
        "# Working Directory\n",
        "import os\n",
        "os.chdir('/content/drive/MyDrive/Documents/Market Intelligence')"
      ],
      "metadata": {
        "id": "BYRbw4S7Z2YI"
      },
      "execution_count": 2,
      "outputs": []
    },
    {
      "cell_type": "markdown",
      "source": [
        "#### 2. Importing Summarized Dataframe"
      ],
      "metadata": {
        "id": "Nc_WuwUn-urN"
      }
    },
    {
      "cell_type": "code",
      "source": [
        "import pandas as pd\n",
        "import numpy as np"
      ],
      "metadata": {
        "id": "gHcQmCt3ayrL"
      },
      "execution_count": 6,
      "outputs": []
    },
    {
      "cell_type": "code",
      "source": [
        "df = pd.read_csv(\"./datasets/summarized_dataframe_sshleifer_distilbart-cnn-12-6.csv\")\n",
        "df.head(3)"
      ],
      "metadata": {
        "colab": {
          "base_uri": "https://localhost:8080/",
          "height": 606
        },
        "id": "HpA-b1x9arT6",
        "outputId": "99f575ec-25cb-4556-82f9-33970a0652c2"
      },
      "execution_count": 7,
      "outputs": [
        {
          "output_type": "execute_result",
          "data": {
            "text/plain": [
              "  Company  Year                                           Business  \\\n",
              "0    Meta  2021   Facebook's mission is to give people the powe...   \n",
              "1    Meta  2020   Facebook's mission is to give people the powe...   \n",
              "2    Meta  2019   Facebook, the Facebook logo, FB, the Like but...   \n",
              "\n",
              "                                         Risk Factor  \\\n",
              "0   The persistence of COVID-19, and the preventa...   \n",
              "1   The persistence of COVID-19, and the preventa...   \n",
              "2   We cannot guarantee that the program will be ...   \n",
              "\n",
              "                           Unresolved Staff Comments  \\\n",
              "0   Item 1B.  Unresolved Staff Comments None. Ite...   \n",
              "1   Item 1B.  Unresolved Staff Comments None. Ite...   \n",
              "2   Item 1B.  Unresolved Staff Comments None. Ite...   \n",
              "\n",
              "                                          Properties  \\\n",
              "0   Our corporate headquarters are located in Men...   \n",
              "1   As of December 31, 2020, we owned and leased ...   \n",
              "2   As of December 31, 2019, we owned and leased ...   \n",
              "\n",
              "                                   Legal Proceedings  \\\n",
              "0   Meta Platforms Ireland is subject to litigati...   \n",
              "1   Facebook Ireland challenged procedural aspect...   \n",
              "2   Multiple putative class actions and derivativ...   \n",
              "\n",
              "  Market for Registrant’s Common Equity, Related Stockholder Matters and Issuer Purchases of Equity Securities  \\\n",
              "0   Meta Platforms, Inc. has never declared or pa...                                                             \n",
              "1   The graph assumes that $100 was invested at t...                                                             \n",
              "2   The board of directors has authorized a share...                                                             \n",
              "\n",
              "  Management’s Discussion and Analysis of Financial Condition and Results of Operations  \\\n",
              "0   Marketing and sales expenses in 2021 increase...                                      \n",
              "1   This measure may be different from nonGAAP fi...                                      \n",
              "2   Revenue was $70. 67 billion and $1. 34 billio...                                      \n",
              "\n",
              "  Quantitative and Qualitative Disclosures About Market Risk  \\\n",
              "0   Our equity investments are investments in equ...           \n",
              "1   We are exposed to market risks, including cha...           \n",
              "2   Interest rates affect the interest earned on ...           \n",
              "\n",
              "         Financial Statements and Supplementary Data  \\\n",
              "0   Family of Apps revenue $ 117,929  $ 85,965  $...   \n",
              "1   The following table reflects changes in the g...   \n",
              "2   The Company changed its method of accounting ...   \n",
              "\n",
              "                             Controls and Procedures  \n",
              "0   There were no changes in our internal control...  \n",
              "1   There were no changes in our internal control...  \n",
              "2   Our management is responsible for establishin...  "
            ],
            "text/html": [
              "\n",
              "  <div id=\"df-5c4c35a3-c6e0-44eb-9721-d3e01d88bc9f\">\n",
              "    <div class=\"colab-df-container\">\n",
              "      <div>\n",
              "<style scoped>\n",
              "    .dataframe tbody tr th:only-of-type {\n",
              "        vertical-align: middle;\n",
              "    }\n",
              "\n",
              "    .dataframe tbody tr th {\n",
              "        vertical-align: top;\n",
              "    }\n",
              "\n",
              "    .dataframe thead th {\n",
              "        text-align: right;\n",
              "    }\n",
              "</style>\n",
              "<table border=\"1\" class=\"dataframe\">\n",
              "  <thead>\n",
              "    <tr style=\"text-align: right;\">\n",
              "      <th></th>\n",
              "      <th>Company</th>\n",
              "      <th>Year</th>\n",
              "      <th>Business</th>\n",
              "      <th>Risk Factor</th>\n",
              "      <th>Unresolved Staff Comments</th>\n",
              "      <th>Properties</th>\n",
              "      <th>Legal Proceedings</th>\n",
              "      <th>Market for Registrant’s Common Equity, Related Stockholder Matters and Issuer Purchases of Equity Securities</th>\n",
              "      <th>Management’s Discussion and Analysis of Financial Condition and Results of Operations</th>\n",
              "      <th>Quantitative and Qualitative Disclosures About Market Risk</th>\n",
              "      <th>Financial Statements and Supplementary Data</th>\n",
              "      <th>Controls and Procedures</th>\n",
              "    </tr>\n",
              "  </thead>\n",
              "  <tbody>\n",
              "    <tr>\n",
              "      <th>0</th>\n",
              "      <td>Meta</td>\n",
              "      <td>2021</td>\n",
              "      <td>Facebook's mission is to give people the powe...</td>\n",
              "      <td>The persistence of COVID-19, and the preventa...</td>\n",
              "      <td>Item 1B.  Unresolved Staff Comments None. Ite...</td>\n",
              "      <td>Our corporate headquarters are located in Men...</td>\n",
              "      <td>Meta Platforms Ireland is subject to litigati...</td>\n",
              "      <td>Meta Platforms, Inc. has never declared or pa...</td>\n",
              "      <td>Marketing and sales expenses in 2021 increase...</td>\n",
              "      <td>Our equity investments are investments in equ...</td>\n",
              "      <td>Family of Apps revenue $ 117,929  $ 85,965  $...</td>\n",
              "      <td>There were no changes in our internal control...</td>\n",
              "    </tr>\n",
              "    <tr>\n",
              "      <th>1</th>\n",
              "      <td>Meta</td>\n",
              "      <td>2020</td>\n",
              "      <td>Facebook's mission is to give people the powe...</td>\n",
              "      <td>The persistence of COVID-19, and the preventa...</td>\n",
              "      <td>Item 1B.  Unresolved Staff Comments None. Ite...</td>\n",
              "      <td>As of December 31, 2020, we owned and leased ...</td>\n",
              "      <td>Facebook Ireland challenged procedural aspect...</td>\n",
              "      <td>The graph assumes that $100 was invested at t...</td>\n",
              "      <td>This measure may be different from nonGAAP fi...</td>\n",
              "      <td>We are exposed to market risks, including cha...</td>\n",
              "      <td>The following table reflects changes in the g...</td>\n",
              "      <td>There were no changes in our internal control...</td>\n",
              "    </tr>\n",
              "    <tr>\n",
              "      <th>2</th>\n",
              "      <td>Meta</td>\n",
              "      <td>2019</td>\n",
              "      <td>Facebook, the Facebook logo, FB, the Like but...</td>\n",
              "      <td>We cannot guarantee that the program will be ...</td>\n",
              "      <td>Item 1B.  Unresolved Staff Comments None. Ite...</td>\n",
              "      <td>As of December 31, 2019, we owned and leased ...</td>\n",
              "      <td>Multiple putative class actions and derivativ...</td>\n",
              "      <td>The board of directors has authorized a share...</td>\n",
              "      <td>Revenue was $70. 67 billion and $1. 34 billio...</td>\n",
              "      <td>Interest rates affect the interest earned on ...</td>\n",
              "      <td>The Company changed its method of accounting ...</td>\n",
              "      <td>Our management is responsible for establishin...</td>\n",
              "    </tr>\n",
              "  </tbody>\n",
              "</table>\n",
              "</div>\n",
              "      <button class=\"colab-df-convert\" onclick=\"convertToInteractive('df-5c4c35a3-c6e0-44eb-9721-d3e01d88bc9f')\"\n",
              "              title=\"Convert this dataframe to an interactive table.\"\n",
              "              style=\"display:none;\">\n",
              "        \n",
              "  <svg xmlns=\"http://www.w3.org/2000/svg\" height=\"24px\"viewBox=\"0 0 24 24\"\n",
              "       width=\"24px\">\n",
              "    <path d=\"M0 0h24v24H0V0z\" fill=\"none\"/>\n",
              "    <path d=\"M18.56 5.44l.94 2.06.94-2.06 2.06-.94-2.06-.94-.94-2.06-.94 2.06-2.06.94zm-11 1L8.5 8.5l.94-2.06 2.06-.94-2.06-.94L8.5 2.5l-.94 2.06-2.06.94zm10 10l.94 2.06.94-2.06 2.06-.94-2.06-.94-.94-2.06-.94 2.06-2.06.94z\"/><path d=\"M17.41 7.96l-1.37-1.37c-.4-.4-.92-.59-1.43-.59-.52 0-1.04.2-1.43.59L10.3 9.45l-7.72 7.72c-.78.78-.78 2.05 0 2.83L4 21.41c.39.39.9.59 1.41.59.51 0 1.02-.2 1.41-.59l7.78-7.78 2.81-2.81c.8-.78.8-2.07 0-2.86zM5.41 20L4 18.59l7.72-7.72 1.47 1.35L5.41 20z\"/>\n",
              "  </svg>\n",
              "      </button>\n",
              "      \n",
              "  <style>\n",
              "    .colab-df-container {\n",
              "      display:flex;\n",
              "      flex-wrap:wrap;\n",
              "      gap: 12px;\n",
              "    }\n",
              "\n",
              "    .colab-df-convert {\n",
              "      background-color: #E8F0FE;\n",
              "      border: none;\n",
              "      border-radius: 50%;\n",
              "      cursor: pointer;\n",
              "      display: none;\n",
              "      fill: #1967D2;\n",
              "      height: 32px;\n",
              "      padding: 0 0 0 0;\n",
              "      width: 32px;\n",
              "    }\n",
              "\n",
              "    .colab-df-convert:hover {\n",
              "      background-color: #E2EBFA;\n",
              "      box-shadow: 0px 1px 2px rgba(60, 64, 67, 0.3), 0px 1px 3px 1px rgba(60, 64, 67, 0.15);\n",
              "      fill: #174EA6;\n",
              "    }\n",
              "\n",
              "    [theme=dark] .colab-df-convert {\n",
              "      background-color: #3B4455;\n",
              "      fill: #D2E3FC;\n",
              "    }\n",
              "\n",
              "    [theme=dark] .colab-df-convert:hover {\n",
              "      background-color: #434B5C;\n",
              "      box-shadow: 0px 1px 3px 1px rgba(0, 0, 0, 0.15);\n",
              "      filter: drop-shadow(0px 1px 2px rgba(0, 0, 0, 0.3));\n",
              "      fill: #FFFFFF;\n",
              "    }\n",
              "  </style>\n",
              "\n",
              "      <script>\n",
              "        const buttonEl =\n",
              "          document.querySelector('#df-5c4c35a3-c6e0-44eb-9721-d3e01d88bc9f button.colab-df-convert');\n",
              "        buttonEl.style.display =\n",
              "          google.colab.kernel.accessAllowed ? 'block' : 'none';\n",
              "\n",
              "        async function convertToInteractive(key) {\n",
              "          const element = document.querySelector('#df-5c4c35a3-c6e0-44eb-9721-d3e01d88bc9f');\n",
              "          const dataTable =\n",
              "            await google.colab.kernel.invokeFunction('convertToInteractive',\n",
              "                                                     [key], {});\n",
              "          if (!dataTable) return;\n",
              "\n",
              "          const docLinkHtml = 'Like what you see? Visit the ' +\n",
              "            '<a target=\"_blank\" href=https://colab.research.google.com/notebooks/data_table.ipynb>data table notebook</a>'\n",
              "            + ' to learn more about interactive tables.';\n",
              "          element.innerHTML = '';\n",
              "          dataTable['output_type'] = 'display_data';\n",
              "          await google.colab.output.renderOutput(dataTable, element);\n",
              "          const docLink = document.createElement('div');\n",
              "          docLink.innerHTML = docLinkHtml;\n",
              "          element.appendChild(docLink);\n",
              "        }\n",
              "      </script>\n",
              "    </div>\n",
              "  </div>\n",
              "  "
            ]
          },
          "metadata": {},
          "execution_count": 7
        }
      ]
    },
    {
      "cell_type": "markdown",
      "source": [
        "#### 3. Exploring Rake-NLTK"
      ],
      "metadata": {
        "id": "faKj5ZTY_oRJ"
      }
    },
    {
      "cell_type": "code",
      "source": [
        "!pip install rake-nltk -q"
      ],
      "metadata": {
        "colab": {
          "base_uri": "https://localhost:8080/"
        },
        "id": "bXrBru4l5krP",
        "outputId": "2fce5f0a-ed43-438d-82b0-634a758e287c"
      },
      "execution_count": 3,
      "outputs": [
        {
          "output_type": "stream",
          "name": "stdout",
          "text": [
            "Looking in indexes: https://pypi.org/simple, https://us-python.pkg.dev/colab-wheels/public/simple/\n",
            "Collecting rake-nltk\n",
            "  Downloading rake_nltk-1.0.6-py3-none-any.whl (9.1 kB)\n",
            "Requirement already satisfied: nltk<4.0.0,>=3.6.2 in /usr/local/lib/python3.8/dist-packages (from rake-nltk) (3.7)\n",
            "Requirement already satisfied: joblib in /usr/local/lib/python3.8/dist-packages (from nltk<4.0.0,>=3.6.2->rake-nltk) (1.2.0)\n",
            "Requirement already satisfied: regex>=2021.8.3 in /usr/local/lib/python3.8/dist-packages (from nltk<4.0.0,>=3.6.2->rake-nltk) (2022.6.2)\n",
            "Requirement already satisfied: click in /usr/local/lib/python3.8/dist-packages (from nltk<4.0.0,>=3.6.2->rake-nltk) (7.1.2)\n",
            "Requirement already satisfied: tqdm in /usr/local/lib/python3.8/dist-packages (from nltk<4.0.0,>=3.6.2->rake-nltk) (4.64.1)\n",
            "Installing collected packages: rake-nltk\n",
            "Successfully installed rake-nltk-1.0.6\n"
          ]
        }
      ]
    },
    {
      "cell_type": "code",
      "source": [
        "import nltk\n",
        "\n",
        "nltk.download('punkt')\n",
        "nltk.download('stopwords')"
      ],
      "metadata": {
        "colab": {
          "base_uri": "https://localhost:8080/"
        },
        "id": "tejMfzUF5NDS",
        "outputId": "adc6a74c-2d6b-4207-a565-953466bbadaa"
      },
      "execution_count": 5,
      "outputs": [
        {
          "output_type": "stream",
          "name": "stderr",
          "text": [
            "[nltk_data] Downloading package punkt to /root/nltk_data...\n",
            "[nltk_data]   Unzipping tokenizers/punkt.zip.\n",
            "[nltk_data] Downloading package stopwords to /root/nltk_data...\n",
            "[nltk_data]   Unzipping corpora/stopwords.zip.\n"
          ]
        },
        {
          "output_type": "execute_result",
          "data": {
            "text/plain": [
              "True"
            ]
          },
          "metadata": {},
          "execution_count": 5
        }
      ]
    },
    {
      "cell_type": "code",
      "source": [
        "li = list(df.iloc[:,1])"
      ],
      "metadata": {
        "id": "qvlgnt11wJPa"
      },
      "execution_count": 8,
      "outputs": []
    },
    {
      "cell_type": "code",
      "source": [
        "from rake_nltk import Rake"
      ],
      "metadata": {
        "id": "DsPQRAtrbFCw"
      },
      "execution_count": 9,
      "outputs": []
    },
    {
      "cell_type": "code",
      "source": [
        "r = Rake()"
      ],
      "metadata": {
        "id": "iBJDzDlh5XhA"
      },
      "execution_count": 10,
      "outputs": []
    },
    {
      "cell_type": "code",
      "source": [
        "r.extract_keywords_from_text(df.iloc[0,2])"
      ],
      "metadata": {
        "id": "JkhlTyZk5wdJ"
      },
      "execution_count": 14,
      "outputs": []
    },
    {
      "cell_type": "code",
      "source": [
        "r.get_ranked_phrases()"
      ],
      "metadata": {
        "colab": {
          "base_uri": "https://localhost:8080/"
        },
        "id": "LdHTZCyY6N3F",
        "outputId": "449b841f-44b7-49dd-d51f-1451358bcf95"
      },
      "execution_count": 15,
      "outputs": [
        {
          "output_type": "execute_result",
          "data": {
            "text/plain": [
              "['world closer together',\n",
              " 'involve matters central',\n",
              " 'work remotely',\n",
              " 'united states',\n",
              " 'time employees',\n",
              " 'regular basis',\n",
              " 'give people',\n",
              " 'build community',\n",
              " 'variety',\n",
              " 'subject',\n",
              " 'regulations',\n",
              " 'power',\n",
              " 'option',\n",
              " 'offer',\n",
              " 'mission',\n",
              " 'laws',\n",
              " 'full',\n",
              " 'facebook',\n",
              " 'business',\n",
              " 'bring',\n",
              " 'abroad']"
            ]
          },
          "metadata": {},
          "execution_count": 15
        }
      ]
    },
    {
      "cell_type": "code",
      "source": [
        "r.get_ranked_phrases_with_scores()"
      ],
      "metadata": {
        "colab": {
          "base_uri": "https://localhost:8080/"
        },
        "id": "may4PyqM6WUN",
        "outputId": "0be82a5e-b23b-4ad1-b307-10c65b8177b7"
      },
      "execution_count": 16,
      "outputs": [
        {
          "output_type": "execute_result",
          "data": {
            "text/plain": [
              "[(9.0, 'world closer together'),\n",
              " (9.0, 'involve matters central'),\n",
              " (4.0, 'work remotely'),\n",
              " (4.0, 'united states'),\n",
              " (4.0, 'time employees'),\n",
              " (4.0, 'regular basis'),\n",
              " (4.0, 'give people'),\n",
              " (4.0, 'build community'),\n",
              " (1.0, 'variety'),\n",
              " (1.0, 'subject'),\n",
              " (1.0, 'regulations'),\n",
              " (1.0, 'power'),\n",
              " (1.0, 'option'),\n",
              " (1.0, 'offer'),\n",
              " (1.0, 'mission'),\n",
              " (1.0, 'laws'),\n",
              " (1.0, 'full'),\n",
              " (1.0, 'facebook'),\n",
              " (1.0, 'business'),\n",
              " (1.0, 'bring'),\n",
              " (1.0, 'abroad')]"
            ]
          },
          "metadata": {},
          "execution_count": 16
        }
      ]
    },
    {
      "cell_type": "markdown",
      "source": [
        "#### 4. Applying to Final Dataframe"
      ],
      "metadata": {
        "id": "sLRx2p0e_88X"
      }
    },
    {
      "cell_type": "code",
      "source": [
        "def topic_extraction(df, exclude_columns):\n",
        "\n",
        "  r = Rake()\n",
        "  \n",
        "  temp1 = df.iloc[:,:exclude_columns]\n",
        "  arr = df.iloc[:,exclude_columns:].to_numpy()\n",
        "  columns=list(df.iloc[:,exclude_columns:].columns)\n",
        "  \n",
        "  for row in range(len(arr)):\n",
        "    for col in range(len(arr[0])):\n",
        "      r.extract_keywords_from_text(arr[row][col])\n",
        "      arr[row][col] = r.get_ranked_phrases_with_scores()\n",
        "\n",
        "  temp2 = pd.DataFrame(arr, columns=columns)\n",
        "\n",
        "  return pd.concat([temp1, temp2], axis=1)"
      ],
      "metadata": {
        "id": "_agzIoUjA2L6"
      },
      "execution_count": 18,
      "outputs": []
    },
    {
      "cell_type": "code",
      "source": [
        "df = topic_extraction(df, exclude_columns=2)\n",
        "df.head(3)"
      ],
      "metadata": {
        "id": "_WTUgE9CCdC-"
      },
      "execution_count": 19,
      "outputs": []
    },
    {
      "cell_type": "code",
      "source": [
        "df.to_csv('./datasets/topic_extraction_rakeNLTK.csv', index=False)"
      ],
      "metadata": {
        "id": "eZXsibASVJkB"
      },
      "execution_count": 21,
      "outputs": []
    },
    {
      "cell_type": "code",
      "source": [
        "df.iloc[0,2][0][1]"
      ],
      "metadata": {
        "colab": {
          "base_uri": "https://localhost:8080/",
          "height": 36
        },
        "id": "HdMH1jSuCsho",
        "outputId": "b9f8784a-b53e-488a-9a2a-b8b65c537fa8"
      },
      "execution_count": 22,
      "outputs": [
        {
          "output_type": "execute_result",
          "data": {
            "text/plain": [
              "'world closer together'"
            ],
            "application/vnd.google.colaboratory.intrinsic+json": {
              "type": "string"
            }
          },
          "metadata": {},
          "execution_count": 22
        }
      ]
    },
    {
      "cell_type": "markdown",
      "source": [
        "#### 5. Testing"
      ],
      "metadata": {
        "id": "O1_8oV-E-iVe"
      }
    },
    {
      "cell_type": "code",
      "source": [
        "import re"
      ],
      "metadata": {
        "id": "EyoxyLycNVQP"
      },
      "execution_count": null,
      "outputs": []
    },
    {
      "cell_type": "code",
      "source": [
        "str = \"xyz@gmail.com, utka@gmail.com, My company name is Google and it has product gmail.\"\n",
        "\n",
        "print(re.sub(\"gmail\", \"yahoo\", str))"
      ],
      "metadata": {
        "colab": {
          "base_uri": "https://localhost:8080/"
        },
        "id": "HjOmnLroNYwM",
        "outputId": "b5ac2758-8770-4bd4-a8d4-dc81557bf9d8"
      },
      "execution_count": null,
      "outputs": [
        {
          "output_type": "stream",
          "name": "stdout",
          "text": [
            "xyz@yahoo.com, utka@yahoo.com, My company name is Google and it has product yahoo.\n"
          ]
        }
      ]
    },
    {
      "cell_type": "code",
      "source": [
        "\n",
        "summary_words = re.split(\"(?:(?:[^a-zA-Z]+')|(?:'[^a-zA-Z]+))|(?:[^a-zA-Z']+)\", summary_result.loc[summary_result.index[0], co\n",
        "background = \"#EAEA7F\"\n",
        "#background = \"#FFFF\n",
        "dom = []\n",
        "for words in summary_words:\n",
        "    if words != \" \":\n",
        "        dom.append(str(\n",
        "            span(\n",
        "                style=styles(\n",
        "                    background=background,\n",
        "                    border_radius=rem(0.33),\n",
        "                    padding=(rem(0.125), rem(0.145)),\n",
        "                    overflow=\"hidden\",\n",
        "                ))(\n",
        "                words\n",
        "            )\n",
        "      \n",
        "#st.write(dom)\n",
        "listToStr = ''.join([str(elem) for elem in dom if elem != '\n",
        "#st.write(listToStr)\n",
        "#st.markdown(\"<p style='text-align: justify;>\" + listToStr + \"</p>\", unsafe_allow_html=True)"
      ],
      "metadata": {
        "id": "ULZ38B7KNdU9"
      },
      "execution_count": null,
      "outputs": []
    }
  ]
}