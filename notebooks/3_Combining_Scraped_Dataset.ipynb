{
  "nbformat": 4,
  "nbformat_minor": 0,
  "metadata": {
    "colab": {
      "provenance": [],
      "collapsed_sections": [
        "lH9zjbgs4RZq",
        "ospUlE0I4YHw",
        "EjilcTvS5Bk5",
        "cQLt3J4K5LOa"
      ],
      "mount_file_id": "1McVAdpwCFSgkZMklSlm9MUxXqrMDMet6",
      "authorship_tag": "ABX9TyOn137sm8ExVZKFN03K9oqz",
      "include_colab_link": true
    },
    "kernelspec": {
      "name": "python3",
      "display_name": "Python 3"
    },
    "language_info": {
      "name": "python"
    }
  },
  "cells": [
    {
      "cell_type": "markdown",
      "metadata": {
        "id": "view-in-github",
        "colab_type": "text"
      },
      "source": [
        "<a href=\"https://colab.research.google.com/github/utkarshbelkhede/Financial_Dashboard/blob/master/notebooks/3_Combining_Scraped_Dataset.ipynb\" target=\"_parent\"><img src=\"https://colab.research.google.com/assets/colab-badge.svg\" alt=\"Open In Colab\"/></a>"
      ]
    },
    {
      "cell_type": "markdown",
      "source": [
        "#### 1. Setting up Working Directory"
      ],
      "metadata": {
        "id": "lH9zjbgs4RZq"
      }
    },
    {
      "cell_type": "code",
      "source": [
        "# Working Directory\n",
        "import os\n",
        "os.chdir('/content/drive/MyDrive/Documents/Market Intelligence')"
      ],
      "metadata": {
        "id": "3nGRUX-fB64b"
      },
      "execution_count": 1,
      "outputs": []
    },
    {
      "cell_type": "markdown",
      "source": [
        "#### 2. Importing a Sample Dataframe"
      ],
      "metadata": {
        "id": "ospUlE0I4YHw"
      }
    },
    {
      "cell_type": "code",
      "execution_count": 2,
      "metadata": {
        "id": "1OVYUI_A-r8N"
      },
      "outputs": [],
      "source": [
        "import pandas as pd\n",
        "import numpy as np"
      ]
    },
    {
      "cell_type": "code",
      "source": [
        "df = pd.read_csv('./datasets/raw/abbvie.csv')\n",
        "df = df.iloc[:,1:]\n",
        "df.head(1)"
      ],
      "metadata": {
        "colab": {
          "base_uri": "https://localhost:8080/",
          "height": 0
        },
        "id": "ZIhxL4Ds_R8t",
        "outputId": "b39c63a3-bae9-4e7d-f21d-ff8f927f4286"
      },
      "execution_count": 3,
      "outputs": [
        {
          "output_type": "execute_result",
          "data": {
            "text/plain": [
              "  Company Reporting_Date                                                  1  \\\n",
              "0    abbv       20211231   ITEM 1. BUSINESS Overview AbbVie (1) is a glo...   \n",
              "\n",
              "                                                  1A  \\\n",
              "0   ITEM 1A. RISK FACTORS You should carefully co...   \n",
              "\n",
              "                                           1B  \\\n",
              "0   ITEM 1B. UNRESOLVED STAFF COMMENTS None.    \n",
              "\n",
              "                                                   2  \\\n",
              "0   ITEM 2. PROPERTIES AbbVie's corporate offices...   \n",
              "\n",
              "                                                   3  \\\n",
              "0   ITEM 3. LEGAL PROCEEDINGS Information pertain...   \n",
              "\n",
              "                                                   5  \\\n",
              "0   ITEM 5. MARKET FOR REGISTRANT'S COMMON EQUITY...   \n",
              "\n",
              "                                                   7  \\\n",
              "0   ITEM 7. MANAGEMENT'S DISCUSSION AND ANALYSIS ...   \n",
              "\n",
              "                                                  7A  \\\n",
              "0   ITEM 7A. QUANTITATIVE AND QUALITATIVE DISCLOS...   \n",
              "\n",
              "                                                   8  \\\n",
              "0   ITEM 8. FINANCIAL STATEMENTS AND SUPPLEMENTAR...   \n",
              "\n",
              "                                                  9A  \n",
              "0   ITEM 9A. CONTROLS AND PROCEDURES Disclosure C...  "
            ],
            "text/html": [
              "\n",
              "  <div id=\"df-4538d511-a139-4351-afc0-1c0cffaa6967\">\n",
              "    <div class=\"colab-df-container\">\n",
              "      <div>\n",
              "<style scoped>\n",
              "    .dataframe tbody tr th:only-of-type {\n",
              "        vertical-align: middle;\n",
              "    }\n",
              "\n",
              "    .dataframe tbody tr th {\n",
              "        vertical-align: top;\n",
              "    }\n",
              "\n",
              "    .dataframe thead th {\n",
              "        text-align: right;\n",
              "    }\n",
              "</style>\n",
              "<table border=\"1\" class=\"dataframe\">\n",
              "  <thead>\n",
              "    <tr style=\"text-align: right;\">\n",
              "      <th></th>\n",
              "      <th>Company</th>\n",
              "      <th>Reporting_Date</th>\n",
              "      <th>1</th>\n",
              "      <th>1A</th>\n",
              "      <th>1B</th>\n",
              "      <th>2</th>\n",
              "      <th>3</th>\n",
              "      <th>5</th>\n",
              "      <th>7</th>\n",
              "      <th>7A</th>\n",
              "      <th>8</th>\n",
              "      <th>9A</th>\n",
              "    </tr>\n",
              "  </thead>\n",
              "  <tbody>\n",
              "    <tr>\n",
              "      <th>0</th>\n",
              "      <td>abbv</td>\n",
              "      <td>20211231</td>\n",
              "      <td>ITEM 1. BUSINESS Overview AbbVie (1) is a glo...</td>\n",
              "      <td>ITEM 1A. RISK FACTORS You should carefully co...</td>\n",
              "      <td>ITEM 1B. UNRESOLVED STAFF COMMENTS None.</td>\n",
              "      <td>ITEM 2. PROPERTIES AbbVie's corporate offices...</td>\n",
              "      <td>ITEM 3. LEGAL PROCEEDINGS Information pertain...</td>\n",
              "      <td>ITEM 5. MARKET FOR REGISTRANT'S COMMON EQUITY...</td>\n",
              "      <td>ITEM 7. MANAGEMENT'S DISCUSSION AND ANALYSIS ...</td>\n",
              "      <td>ITEM 7A. QUANTITATIVE AND QUALITATIVE DISCLOS...</td>\n",
              "      <td>ITEM 8. FINANCIAL STATEMENTS AND SUPPLEMENTAR...</td>\n",
              "      <td>ITEM 9A. CONTROLS AND PROCEDURES Disclosure C...</td>\n",
              "    </tr>\n",
              "  </tbody>\n",
              "</table>\n",
              "</div>\n",
              "      <button class=\"colab-df-convert\" onclick=\"convertToInteractive('df-4538d511-a139-4351-afc0-1c0cffaa6967')\"\n",
              "              title=\"Convert this dataframe to an interactive table.\"\n",
              "              style=\"display:none;\">\n",
              "        \n",
              "  <svg xmlns=\"http://www.w3.org/2000/svg\" height=\"24px\"viewBox=\"0 0 24 24\"\n",
              "       width=\"24px\">\n",
              "    <path d=\"M0 0h24v24H0V0z\" fill=\"none\"/>\n",
              "    <path d=\"M18.56 5.44l.94 2.06.94-2.06 2.06-.94-2.06-.94-.94-2.06-.94 2.06-2.06.94zm-11 1L8.5 8.5l.94-2.06 2.06-.94-2.06-.94L8.5 2.5l-.94 2.06-2.06.94zm10 10l.94 2.06.94-2.06 2.06-.94-2.06-.94-.94-2.06-.94 2.06-2.06.94z\"/><path d=\"M17.41 7.96l-1.37-1.37c-.4-.4-.92-.59-1.43-.59-.52 0-1.04.2-1.43.59L10.3 9.45l-7.72 7.72c-.78.78-.78 2.05 0 2.83L4 21.41c.39.39.9.59 1.41.59.51 0 1.02-.2 1.41-.59l7.78-7.78 2.81-2.81c.8-.78.8-2.07 0-2.86zM5.41 20L4 18.59l7.72-7.72 1.47 1.35L5.41 20z\"/>\n",
              "  </svg>\n",
              "      </button>\n",
              "      \n",
              "  <style>\n",
              "    .colab-df-container {\n",
              "      display:flex;\n",
              "      flex-wrap:wrap;\n",
              "      gap: 12px;\n",
              "    }\n",
              "\n",
              "    .colab-df-convert {\n",
              "      background-color: #E8F0FE;\n",
              "      border: none;\n",
              "      border-radius: 50%;\n",
              "      cursor: pointer;\n",
              "      display: none;\n",
              "      fill: #1967D2;\n",
              "      height: 32px;\n",
              "      padding: 0 0 0 0;\n",
              "      width: 32px;\n",
              "    }\n",
              "\n",
              "    .colab-df-convert:hover {\n",
              "      background-color: #E2EBFA;\n",
              "      box-shadow: 0px 1px 2px rgba(60, 64, 67, 0.3), 0px 1px 3px 1px rgba(60, 64, 67, 0.15);\n",
              "      fill: #174EA6;\n",
              "    }\n",
              "\n",
              "    [theme=dark] .colab-df-convert {\n",
              "      background-color: #3B4455;\n",
              "      fill: #D2E3FC;\n",
              "    }\n",
              "\n",
              "    [theme=dark] .colab-df-convert:hover {\n",
              "      background-color: #434B5C;\n",
              "      box-shadow: 0px 1px 3px 1px rgba(0, 0, 0, 0.15);\n",
              "      filter: drop-shadow(0px 1px 2px rgba(0, 0, 0, 0.3));\n",
              "      fill: #FFFFFF;\n",
              "    }\n",
              "  </style>\n",
              "\n",
              "      <script>\n",
              "        const buttonEl =\n",
              "          document.querySelector('#df-4538d511-a139-4351-afc0-1c0cffaa6967 button.colab-df-convert');\n",
              "        buttonEl.style.display =\n",
              "          google.colab.kernel.accessAllowed ? 'block' : 'none';\n",
              "\n",
              "        async function convertToInteractive(key) {\n",
              "          const element = document.querySelector('#df-4538d511-a139-4351-afc0-1c0cffaa6967');\n",
              "          const dataTable =\n",
              "            await google.colab.kernel.invokeFunction('convertToInteractive',\n",
              "                                                     [key], {});\n",
              "          if (!dataTable) return;\n",
              "\n",
              "          const docLinkHtml = 'Like what you see? Visit the ' +\n",
              "            '<a target=\"_blank\" href=https://colab.research.google.com/notebooks/data_table.ipynb>data table notebook</a>'\n",
              "            + ' to learn more about interactive tables.';\n",
              "          element.innerHTML = '';\n",
              "          dataTable['output_type'] = 'display_data';\n",
              "          await google.colab.output.renderOutput(dataTable, element);\n",
              "          const docLink = document.createElement('div');\n",
              "          docLink.innerHTML = docLinkHtml;\n",
              "          element.appendChild(docLink);\n",
              "        }\n",
              "      </script>\n",
              "    </div>\n",
              "  </div>\n",
              "  "
            ]
          },
          "metadata": {},
          "execution_count": 3
        }
      ]
    },
    {
      "cell_type": "markdown",
      "source": [
        "#### 3. Defining Few Functions"
      ],
      "metadata": {
        "id": "EjilcTvS5Bk5"
      }
    },
    {
      "cell_type": "code",
      "source": [
        "columns = list(df.columns)"
      ],
      "metadata": {
        "id": "BWhLotnQGdbp"
      },
      "execution_count": 4,
      "outputs": []
    },
    {
      "cell_type": "code",
      "source": [
        "def change_name_year(df, name, year_list, columns):\n",
        "  arr = df.to_numpy()\n",
        "\n",
        "  for row in range(len(arr)):\n",
        "    for col in range(len(arr[0])):\n",
        "      if col == 0:\n",
        "        arr[row][col] = name\n",
        "      if col == 1:\n",
        "        arr[row][col] = year_list[row]     \n",
        "\n",
        "  return pd.DataFrame(arr, columns = columns)"
      ],
      "metadata": {
        "id": "Ef_c5paIFRp_"
      },
      "execution_count": 5,
      "outputs": []
    },
    {
      "cell_type": "code",
      "source": [
        "# Returns combined dataset\n",
        "def combine_dataset(PATH, raw_data_files, company_names_list, year_list):\n",
        "  for i, (file, company) in enumerate(zip(raw_data_files, company_names_list)):\n",
        "    df = pd.read_csv(PATH + file)\n",
        "    df = df.iloc[:,1:]\n",
        "    # Setting up appropriate names and year\n",
        "    df = change_name_year(df, company, year_list, columns)\n",
        "\n",
        "    # Skipping concatenation in the first iteration\n",
        "    if i == 0:\n",
        "      arr = df.to_numpy()\n",
        "    else:\n",
        "      arr1 = df.to_numpy()\n",
        "      arr = np.concatenate((arr, arr1), axis = 0)\n",
        "\n",
        "  return pd.DataFrame(arr, columns = columns)"
      ],
      "metadata": {
        "id": "yv8PxMQB8NZG"
      },
      "execution_count": 7,
      "outputs": []
    },
    {
      "cell_type": "markdown",
      "source": [
        "#### 4. Combining Dataset"
      ],
      "metadata": {
        "id": "cQLt3J4K5LOa"
      }
    },
    {
      "cell_type": "code",
      "source": [
        "raw_data_files = os.listdir('./datasets/raw/')\n",
        "raw_data_files"
      ],
      "metadata": {
        "colab": {
          "base_uri": "https://localhost:8080/"
        },
        "id": "bKYw6snH4o0s",
        "outputId": "fde0a419-0dd3-4102-c6f5-acc000b5ca8f"
      },
      "execution_count": 8,
      "outputs": [
        {
          "output_type": "execute_result",
          "data": {
            "text/plain": [
              "['meta.csv',\n",
              " 'merck.csv',\n",
              " 'alphabet.csv',\n",
              " 'microsoft.csv',\n",
              " 'costco.csv',\n",
              " 'pfizer.csv',\n",
              " 'pepsico.csv',\n",
              " 'abbvie.csv',\n",
              " 'coca-cola.csv',\n",
              " 'mastercard.csv']"
            ]
          },
          "metadata": {},
          "execution_count": 8
        }
      ]
    },
    {
      "cell_type": "code",
      "source": [
        "company_names_list = [\n",
        "    \"Meta\", \n",
        "    \"Merck & Co.\", \n",
        "    \"Alphabet Inc.\", \n",
        "    \"Microsoft Corporation\", \n",
        "    \"Costco\",\n",
        "    \"Pfizer\",\n",
        "    \"PepsiCo\",\n",
        "    \"AbbVie\",\n",
        "    \"Coca-Cola\",\n",
        "    \"Mastercard\"\n",
        "    ]"
      ],
      "metadata": {
        "id": "xgVO9ZGK6LSJ"
      },
      "execution_count": 9,
      "outputs": []
    },
    {
      "cell_type": "code",
      "source": [
        "PATH = './datasets/raw/'"
      ],
      "metadata": {
        "id": "8yeSRs988r4C"
      },
      "execution_count": 10,
      "outputs": []
    },
    {
      "cell_type": "code",
      "source": [
        "year_list = ['2021','2020','2019','2018','2017']"
      ],
      "metadata": {
        "id": "bYWubmT94oBq"
      },
      "execution_count": 11,
      "outputs": []
    },
    {
      "cell_type": "code",
      "source": [
        "final_combined_dataset = combine_dataset(PATH, raw_data_files, company_names_list, year_list)\n",
        "final_combined_dataset.head()"
      ],
      "metadata": {
        "colab": {
          "base_uri": "https://localhost:8080/",
          "height": 877
        },
        "id": "-mIK2QoLE6Hf",
        "outputId": "43648811-2d57-4498-fe1c-97ce739811f1"
      },
      "execution_count": 14,
      "outputs": [
        {
          "output_type": "execute_result",
          "data": {
            "text/plain": [
              "  Company Reporting_Date                                                  1  \\\n",
              "0    Meta           2021   Item 1. Business Overview Our mission is to g...   \n",
              "1    Meta           2020   Item 1. Business Overview Our mission is to g...   \n",
              "2    Meta           2019   Item 1. Business Overview Our mission is to g...   \n",
              "3    Meta           2018   Item 1. Business Overview Our mission is to g...   \n",
              "4    Meta           2017   Item 1. Business Overview Our mission is to g...   \n",
              "\n",
              "                                                  1A  \\\n",
              "0   Item 1A. Risk Factors Certain factors may hav...   \n",
              "1   Item 1A. Risk Factors Certain factors may hav...   \n",
              "2   Item 1A. Risk Factors Certain factors may hav...   \n",
              "3   Item 1A. Risk Factors Certain factors may hav...   \n",
              "4   Item 1A. Risk Factors Certain factors may hav...   \n",
              "\n",
              "                                           1B  \\\n",
              "0   Item 1B. Unresolved Staff Comments None.    \n",
              "1   Item 1B. Unresolved Staff Comments None.    \n",
              "2   Item 1B. Unresolved Staff Comments None.    \n",
              "3   Item 1B. Unresolved Staff Comments None.    \n",
              "4   Item 1B. Unresolved Staff Comments None.    \n",
              "\n",
              "                                                   2  \\\n",
              "0   Item 2. Properties Our corporate headquarters...   \n",
              "1   Item 2. Properties  Our corporate headquarter...   \n",
              "2   Item 2. Properties  Our corporate headquarter...   \n",
              "3   Item 2. Properties  Our corporate headquarter...   \n",
              "4   Item 2. Properties  Our corporate headquarter...   \n",
              "\n",
              "                                                   3  \\\n",
              "0   Item 3. Legal Proceedings Beginning on March ...   \n",
              "1   Item 3. Legal Proceedings Beginning on March ...   \n",
              "2   Item 3. Legal Proceedings Beginning on March ...   \n",
              "3   Item 3. Legal Proceedings Beginning on March ...   \n",
              "4   Item 3. Legal Proceedings Beginning on May 22...   \n",
              "\n",
              "                                                   5  \\\n",
              "0   Item 5. Market for Registrant's Common Equity...   \n",
              "1   Item 5. Market for Registrant's Common Equity...   \n",
              "2   Item 5. Market for Registrant's Common Equity...   \n",
              "3   Item 5. Market for Registrant's Common Equity...   \n",
              "4   Item 5. Market for Registrant's Common Equity...   \n",
              "\n",
              "                                                   7  \\\n",
              "0   Item 7. Management's Discussion and Analysis ...   \n",
              "1   Item 7. Management's Discussion and Analysis ...   \n",
              "2   Item 7. Management's Discussion and Analysis ...   \n",
              "3   Item 7. Management's Discussion and Analysis ...   \n",
              "4   Item 7. Management's Discussion and Analysis ...   \n",
              "\n",
              "                                                  7A  \\\n",
              "0   Item 7A. Quantitative and Qualitative Disclos...   \n",
              "1   Item 7A. Quantitative and Qualitative Disclos...   \n",
              "2   Item 7A. Quantitative and Qualitative Disclos...   \n",
              "3   Item 7A. Quantitative and Qualitative Disclos...   \n",
              "4   Item 7A. Quantitative and Qualitative Disclos...   \n",
              "\n",
              "                                                   8  \\\n",
              "0   Item 8. Financial Statements and Supplementar...   \n",
              "1   Item 8. Financial Statements and Supplementar...   \n",
              "2   Item 8. Financial Statements and Supplementar...   \n",
              "3   Item 8. Financial Statements and Supplementar...   \n",
              "4   Item 8. Financial Statements and Supplementar...   \n",
              "\n",
              "                                                  9A  \n",
              "0   Item 9A. Controls and Procedures Evaluation o...  \n",
              "1   Item 9A. Controls and Procedures Evaluation o...  \n",
              "2   Item 9A. Controls and Procedures Evaluation o...  \n",
              "3   Item 9A. Controls and Procedures Evaluation o...  \n",
              "4   Item 9A. Controls and Procedures Evaluation o...  "
            ],
            "text/html": [
              "\n",
              "  <div id=\"df-017f9c69-c0c8-4635-9c84-aa9b2372f8fa\">\n",
              "    <div class=\"colab-df-container\">\n",
              "      <div>\n",
              "<style scoped>\n",
              "    .dataframe tbody tr th:only-of-type {\n",
              "        vertical-align: middle;\n",
              "    }\n",
              "\n",
              "    .dataframe tbody tr th {\n",
              "        vertical-align: top;\n",
              "    }\n",
              "\n",
              "    .dataframe thead th {\n",
              "        text-align: right;\n",
              "    }\n",
              "</style>\n",
              "<table border=\"1\" class=\"dataframe\">\n",
              "  <thead>\n",
              "    <tr style=\"text-align: right;\">\n",
              "      <th></th>\n",
              "      <th>Company</th>\n",
              "      <th>Reporting_Date</th>\n",
              "      <th>1</th>\n",
              "      <th>1A</th>\n",
              "      <th>1B</th>\n",
              "      <th>2</th>\n",
              "      <th>3</th>\n",
              "      <th>5</th>\n",
              "      <th>7</th>\n",
              "      <th>7A</th>\n",
              "      <th>8</th>\n",
              "      <th>9A</th>\n",
              "    </tr>\n",
              "  </thead>\n",
              "  <tbody>\n",
              "    <tr>\n",
              "      <th>0</th>\n",
              "      <td>Meta</td>\n",
              "      <td>2021</td>\n",
              "      <td>Item 1. Business Overview Our mission is to g...</td>\n",
              "      <td>Item 1A. Risk Factors Certain factors may hav...</td>\n",
              "      <td>Item 1B. Unresolved Staff Comments None.</td>\n",
              "      <td>Item 2. Properties Our corporate headquarters...</td>\n",
              "      <td>Item 3. Legal Proceedings Beginning on March ...</td>\n",
              "      <td>Item 5. Market for Registrant's Common Equity...</td>\n",
              "      <td>Item 7. Management's Discussion and Analysis ...</td>\n",
              "      <td>Item 7A. Quantitative and Qualitative Disclos...</td>\n",
              "      <td>Item 8. Financial Statements and Supplementar...</td>\n",
              "      <td>Item 9A. Controls and Procedures Evaluation o...</td>\n",
              "    </tr>\n",
              "    <tr>\n",
              "      <th>1</th>\n",
              "      <td>Meta</td>\n",
              "      <td>2020</td>\n",
              "      <td>Item 1. Business Overview Our mission is to g...</td>\n",
              "      <td>Item 1A. Risk Factors Certain factors may hav...</td>\n",
              "      <td>Item 1B. Unresolved Staff Comments None.</td>\n",
              "      <td>Item 2. Properties  Our corporate headquarter...</td>\n",
              "      <td>Item 3. Legal Proceedings Beginning on March ...</td>\n",
              "      <td>Item 5. Market for Registrant's Common Equity...</td>\n",
              "      <td>Item 7. Management's Discussion and Analysis ...</td>\n",
              "      <td>Item 7A. Quantitative and Qualitative Disclos...</td>\n",
              "      <td>Item 8. Financial Statements and Supplementar...</td>\n",
              "      <td>Item 9A. Controls and Procedures Evaluation o...</td>\n",
              "    </tr>\n",
              "    <tr>\n",
              "      <th>2</th>\n",
              "      <td>Meta</td>\n",
              "      <td>2019</td>\n",
              "      <td>Item 1. Business Overview Our mission is to g...</td>\n",
              "      <td>Item 1A. Risk Factors Certain factors may hav...</td>\n",
              "      <td>Item 1B. Unresolved Staff Comments None.</td>\n",
              "      <td>Item 2. Properties  Our corporate headquarter...</td>\n",
              "      <td>Item 3. Legal Proceedings Beginning on March ...</td>\n",
              "      <td>Item 5. Market for Registrant's Common Equity...</td>\n",
              "      <td>Item 7. Management's Discussion and Analysis ...</td>\n",
              "      <td>Item 7A. Quantitative and Qualitative Disclos...</td>\n",
              "      <td>Item 8. Financial Statements and Supplementar...</td>\n",
              "      <td>Item 9A. Controls and Procedures Evaluation o...</td>\n",
              "    </tr>\n",
              "    <tr>\n",
              "      <th>3</th>\n",
              "      <td>Meta</td>\n",
              "      <td>2018</td>\n",
              "      <td>Item 1. Business Overview Our mission is to g...</td>\n",
              "      <td>Item 1A. Risk Factors Certain factors may hav...</td>\n",
              "      <td>Item 1B. Unresolved Staff Comments None.</td>\n",
              "      <td>Item 2. Properties  Our corporate headquarter...</td>\n",
              "      <td>Item 3. Legal Proceedings Beginning on March ...</td>\n",
              "      <td>Item 5. Market for Registrant's Common Equity...</td>\n",
              "      <td>Item 7. Management's Discussion and Analysis ...</td>\n",
              "      <td>Item 7A. Quantitative and Qualitative Disclos...</td>\n",
              "      <td>Item 8. Financial Statements and Supplementar...</td>\n",
              "      <td>Item 9A. Controls and Procedures Evaluation o...</td>\n",
              "    </tr>\n",
              "    <tr>\n",
              "      <th>4</th>\n",
              "      <td>Meta</td>\n",
              "      <td>2017</td>\n",
              "      <td>Item 1. Business Overview Our mission is to g...</td>\n",
              "      <td>Item 1A. Risk Factors Certain factors may hav...</td>\n",
              "      <td>Item 1B. Unresolved Staff Comments None.</td>\n",
              "      <td>Item 2. Properties  Our corporate headquarter...</td>\n",
              "      <td>Item 3. Legal Proceedings Beginning on May 22...</td>\n",
              "      <td>Item 5. Market for Registrant's Common Equity...</td>\n",
              "      <td>Item 7. Management's Discussion and Analysis ...</td>\n",
              "      <td>Item 7A. Quantitative and Qualitative Disclos...</td>\n",
              "      <td>Item 8. Financial Statements and Supplementar...</td>\n",
              "      <td>Item 9A. Controls and Procedures Evaluation o...</td>\n",
              "    </tr>\n",
              "  </tbody>\n",
              "</table>\n",
              "</div>\n",
              "      <button class=\"colab-df-convert\" onclick=\"convertToInteractive('df-017f9c69-c0c8-4635-9c84-aa9b2372f8fa')\"\n",
              "              title=\"Convert this dataframe to an interactive table.\"\n",
              "              style=\"display:none;\">\n",
              "        \n",
              "  <svg xmlns=\"http://www.w3.org/2000/svg\" height=\"24px\"viewBox=\"0 0 24 24\"\n",
              "       width=\"24px\">\n",
              "    <path d=\"M0 0h24v24H0V0z\" fill=\"none\"/>\n",
              "    <path d=\"M18.56 5.44l.94 2.06.94-2.06 2.06-.94-2.06-.94-.94-2.06-.94 2.06-2.06.94zm-11 1L8.5 8.5l.94-2.06 2.06-.94-2.06-.94L8.5 2.5l-.94 2.06-2.06.94zm10 10l.94 2.06.94-2.06 2.06-.94-2.06-.94-.94-2.06-.94 2.06-2.06.94z\"/><path d=\"M17.41 7.96l-1.37-1.37c-.4-.4-.92-.59-1.43-.59-.52 0-1.04.2-1.43.59L10.3 9.45l-7.72 7.72c-.78.78-.78 2.05 0 2.83L4 21.41c.39.39.9.59 1.41.59.51 0 1.02-.2 1.41-.59l7.78-7.78 2.81-2.81c.8-.78.8-2.07 0-2.86zM5.41 20L4 18.59l7.72-7.72 1.47 1.35L5.41 20z\"/>\n",
              "  </svg>\n",
              "      </button>\n",
              "      \n",
              "  <style>\n",
              "    .colab-df-container {\n",
              "      display:flex;\n",
              "      flex-wrap:wrap;\n",
              "      gap: 12px;\n",
              "    }\n",
              "\n",
              "    .colab-df-convert {\n",
              "      background-color: #E8F0FE;\n",
              "      border: none;\n",
              "      border-radius: 50%;\n",
              "      cursor: pointer;\n",
              "      display: none;\n",
              "      fill: #1967D2;\n",
              "      height: 32px;\n",
              "      padding: 0 0 0 0;\n",
              "      width: 32px;\n",
              "    }\n",
              "\n",
              "    .colab-df-convert:hover {\n",
              "      background-color: #E2EBFA;\n",
              "      box-shadow: 0px 1px 2px rgba(60, 64, 67, 0.3), 0px 1px 3px 1px rgba(60, 64, 67, 0.15);\n",
              "      fill: #174EA6;\n",
              "    }\n",
              "\n",
              "    [theme=dark] .colab-df-convert {\n",
              "      background-color: #3B4455;\n",
              "      fill: #D2E3FC;\n",
              "    }\n",
              "\n",
              "    [theme=dark] .colab-df-convert:hover {\n",
              "      background-color: #434B5C;\n",
              "      box-shadow: 0px 1px 3px 1px rgba(0, 0, 0, 0.15);\n",
              "      filter: drop-shadow(0px 1px 2px rgba(0, 0, 0, 0.3));\n",
              "      fill: #FFFFFF;\n",
              "    }\n",
              "  </style>\n",
              "\n",
              "      <script>\n",
              "        const buttonEl =\n",
              "          document.querySelector('#df-017f9c69-c0c8-4635-9c84-aa9b2372f8fa button.colab-df-convert');\n",
              "        buttonEl.style.display =\n",
              "          google.colab.kernel.accessAllowed ? 'block' : 'none';\n",
              "\n",
              "        async function convertToInteractive(key) {\n",
              "          const element = document.querySelector('#df-017f9c69-c0c8-4635-9c84-aa9b2372f8fa');\n",
              "          const dataTable =\n",
              "            await google.colab.kernel.invokeFunction('convertToInteractive',\n",
              "                                                     [key], {});\n",
              "          if (!dataTable) return;\n",
              "\n",
              "          const docLinkHtml = 'Like what you see? Visit the ' +\n",
              "            '<a target=\"_blank\" href=https://colab.research.google.com/notebooks/data_table.ipynb>data table notebook</a>'\n",
              "            + ' to learn more about interactive tables.';\n",
              "          element.innerHTML = '';\n",
              "          dataTable['output_type'] = 'display_data';\n",
              "          await google.colab.output.renderOutput(dataTable, element);\n",
              "          const docLink = document.createElement('div');\n",
              "          docLink.innerHTML = docLinkHtml;\n",
              "          element.appendChild(docLink);\n",
              "        }\n",
              "      </script>\n",
              "    </div>\n",
              "  </div>\n",
              "  "
            ]
          },
          "metadata": {},
          "execution_count": 14
        }
      ]
    },
    {
      "cell_type": "code",
      "source": [
        "final_combined_dataset.to_csv('./datasets/final_combined_dataset.csv')"
      ],
      "metadata": {
        "id": "qVfded4VJ9X8"
      },
      "execution_count": 13,
      "outputs": []
    }
  ]
}