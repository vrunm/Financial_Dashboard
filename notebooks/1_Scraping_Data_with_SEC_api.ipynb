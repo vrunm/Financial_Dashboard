{
  "nbformat": 4,
  "nbformat_minor": 0,
  "metadata": {
    "colab": {
      "provenance": [],
      "collapsed_sections": [
        "_g1Vt6C7GHib",
        "1JAui_3YG4TG",
        "QoNMDVcxHYvw",
        "rnMjIWaYKlQp",
        "lypgtBMgB_ne"
      ],
      "include_colab_link": true
    },
    "kernelspec": {
      "name": "python3",
      "display_name": "Python 3"
    },
    "language_info": {
      "name": "python"
    }
  },
  "cells": [
    {
      "cell_type": "markdown",
      "metadata": {
        "id": "view-in-github",
        "colab_type": "text"
      },
      "source": [
        "<a href=\"https://colab.research.google.com/github/utkarshbelkhede/Financial_Dashboard/blob/master/notebooks/1_Scraping_Data_with_SEC_api.ipynb\" target=\"_parent\"><img src=\"https://colab.research.google.com/assets/colab-badge.svg\" alt=\"Open In Colab\"/></a>"
      ]
    },
    {
      "cell_type": "markdown",
      "source": [
        "#### 1. Required Libraries"
      ],
      "metadata": {
        "id": "_g1Vt6C7GHib"
      }
    },
    {
      "cell_type": "code",
      "execution_count": null,
      "metadata": {
        "id": "aYOMmvfAC3l7"
      },
      "outputs": [],
      "source": [
        "!pip install --quiet sec-api"
      ]
    },
    {
      "cell_type": "code",
      "source": [
        "from sec_api import ExtractorApi # https://sec-api.io/\n",
        "import pandas as pd              # for handling data\n",
        "import re                        # cleaning data"
      ],
      "metadata": {
        "id": "tg0JMt3MC_0-"
      },
      "execution_count": null,
      "outputs": []
    },
    {
      "cell_type": "markdown",
      "source": [
        "#### 2. Few helper functions"
      ],
      "metadata": {
        "id": "1JAui_3YG4TG"
      }
    },
    {
      "cell_type": "code",
      "source": [
        "# This will return Compan's Name from URL string.\n",
        "\n",
        "def return_company_name(url):\n",
        "  company_name = []\n",
        "\n",
        "  for i in url[::-1]:\n",
        "    if i == '/':\n",
        "      break\n",
        "    \n",
        "    company_name.append(i)\n",
        "\n",
        "  return ''.join(company_name[-4:])[::-1]\n",
        "  "
      ],
      "metadata": {
        "id": "JFBUNonztBjc"
      },
      "execution_count": null,
      "outputs": []
    },
    {
      "cell_type": "code",
      "source": [
        "return_company_name(\"https://www.sec.gov/ix?doc=/Archives/edgar/data/0001318605/000095017022000796/tsla-20211231.htm\")"
      ],
      "metadata": {
        "colab": {
          "base_uri": "https://localhost:8080/",
          "height": 35
        },
        "id": "aRqrseXbdKtq",
        "outputId": "5cd7c14e-c62c-478e-fc33-85b392c010a8"
      },
      "execution_count": null,
      "outputs": [
        {
          "output_type": "execute_result",
          "data": {
            "text/plain": [
              "'tsla'"
            ],
            "application/vnd.google.colaboratory.intrinsic+json": {
              "type": "string"
            }
          },
          "metadata": {},
          "execution_count": 12
        }
      ]
    },
    {
      "cell_type": "code",
      "source": [
        "\"https://www.sec.gov/ix?doc=/Archives/edgar/data/0001318605/000095017022000796/tsla-20211231.htm\"[-12:-4]"
      ],
      "metadata": {
        "colab": {
          "base_uri": "https://localhost:8080/",
          "height": 35
        },
        "id": "Dn9AUEuSdk9m",
        "outputId": "f5d1793a-186b-414d-acec-935c89078a0c"
      },
      "execution_count": null,
      "outputs": [
        {
          "output_type": "execute_result",
          "data": {
            "text/plain": [
              "'20211231'"
            ],
            "application/vnd.google.colaboratory.intrinsic+json": {
              "type": "string"
            }
          },
          "metadata": {},
          "execution_count": 13
        }
      ]
    },
    {
      "cell_type": "code",
      "source": [
        "# This will extract required sections from 10-K file and return a Dataframe\n",
        "\n",
        "def extractor_filing(extractorApi, filing_url, section):\n",
        "\n",
        "  rows = []\n",
        "\n",
        "  for url in filing_url:\n",
        "\n",
        "    dict_ = {}\n",
        "\n",
        "    columns = [\"Company\", \"Reporting_Date\"]\n",
        "\n",
        "    elements = [return_company_name(url), url[-12:-4]]\n",
        "\n",
        "    for sec in section:\n",
        "\n",
        "      extracted_section = extractorApi.get_section(url, sec, \"text\")\n",
        "      cleaned_section = re.sub(r\"\\n|&#[0-9]+;\", \"\", extracted_section)\n",
        "\n",
        "      columns.append(sec)\n",
        "      elements.append(cleaned_section)\n",
        "      \n",
        "    rows.append(elements)\n",
        "\n",
        "  return pd.DataFrame(rows, columns=columns)\n"
      ],
      "metadata": {
        "id": "chsmSP47e_QN"
      },
      "execution_count": null,
      "outputs": []
    },
    {
      "cell_type": "markdown",
      "source": [
        "#### 3. Extract"
      ],
      "metadata": {
        "id": "QoNMDVcxHYvw"
      }
    },
    {
      "cell_type": "code",
      "source": [
        "# Put your api Key here\n",
        "\n",
        "extractorApi = ExtractorApi(\"fcb2dcbdd4fead6b697c30ec7f025e0a00cb65eb25318217be3396d0950e49e3\")"
      ],
      "metadata": {
        "id": "KOh_hqCRHiX-"
      },
      "execution_count": null,
      "outputs": []
    },
    {
      "cell_type": "code",
      "source": [
        "# URLs of 10-K filings to extract\n",
        "\n",
        "filing_url = [\n",
        "    \"https://www.sec.gov/Archives/edgar/data/320193/000032019321000105/aapl-20210925.htm\",\n",
        "    \"https://www.sec.gov/Archives/edgar/data/320193/000032019320000096/aapl-20200926.htm\",\n",
        "    \"https://www.sec.gov/Archives/edgar/data/320193/000032019319000119/a10-k20199282019.htm\",\n",
        "    \"https://www.sec.gov/Archives/edgar/data/320193/000032019318000145/a10-k20189292018.htm\",\n",
        "    \"https://www.sec.gov/Archives/edgar/data/320193/000032019317000070/a10-k20179302017.htm\",\n",
        "    \"https://www.sec.gov/Archives/edgar/data/320193/000162828016020309/a201610-k9242016.htm\",\n",
        "    \"https://www.sec.gov/Archives/edgar/data/320193/000119312515356351/d17062d10k.htm\",\n",
        "    \"https://www.sec.gov/Archives/edgar/data/320193/000119312514383437/d783162d10k.htm\",\n",
        "    \"https://www.sec.gov/Archives/edgar/data/320193/000119312513416534/d590790d10k.htm\",\n",
        "    \"https://www.sec.gov/Archives/edgar/data/320193/000119312512444068/d411355d10k.htm\"\n",
        "]"
      ],
      "metadata": {
        "id": "oydYW-QOmxai"
      },
      "execution_count": null,
      "outputs": []
    },
    {
      "cell_type": "code",
      "source": [
        "# Which section you want to Extract?\n",
        "\n",
        "section = [\"1\", \"1A\", \"1B\", \"2\", \"3\", \"5\", \"7\", \"7A\", \"8\", \"9A\"]"
      ],
      "metadata": {
        "id": "Ig5OXCiBIMMX"
      },
      "execution_count": null,
      "outputs": []
    },
    {
      "cell_type": "code",
      "source": [
        "# Function call\n",
        "\n",
        "results = extractor_filing(extractorApi, filing_url, section)\n",
        "\n",
        "results"
      ],
      "metadata": {
        "colab": {
          "base_uri": "https://localhost:8080/",
          "height": 1000
        },
        "id": "_poPBOI_gS8z",
        "outputId": "5ea1098f-5b40-4d9f-fa98-22e349f12ad8"
      },
      "execution_count": null,
      "outputs": [
        {
          "output_type": "execute_result",
          "data": {
            "text/plain": [
              "  Company Reporting_Date                                                  1  \\\n",
              "0    aapl       20210925   Item 1. Business Company Background The Compa...   \n",
              "1    aapl       20200926   Item 1. Business Company Background The Compa...   \n",
              "2    a10-       99282019   Item 1. Business ##TABLE_END Company Backgrou...   \n",
              "3    a10-       89292018   Item 1. Business ##TABLE_END Company Backgrou...   \n",
              "4    a10-       79302017   Item 1. Business ##TABLE_END Company Backgrou...   \n",
              "5    a201       k9242016   Item 1. Business ##TABLE_END Company Backgrou...   \n",
              "6    d170       7062d10k   Item 1. Business ##TABLE_END Company Backgrou...   \n",
              "7    d783       3162d10k   Item 1. Business ##TABLE_END Company Backgrou...   \n",
              "8    d590       0790d10k   Item 1. Business ##TABLE_END Company Backgrou...   \n",
              "9    d411       1355d10k   Item 1. Business ##TABLE_END Company Backgrou...   \n",
              "\n",
              "                                                  1A  \\\n",
              "0   Item 1A. Risk Factors The Companys business, ...   \n",
              "1   Item 1A. Risk Factors The following discussio...   \n",
              "2   Item 1A. Risk Factors ##TABLE_END The followi...   \n",
              "3   Item 1A. Risk Factors ##TABLE_END The followi...   \n",
              "4   Item 1A. Risk Factors ##TABLE_END The followi...   \n",
              "5   Item 1A. Risk Factors ##TABLE_END The followi...   \n",
              "6   Item 1A. Risk Factors ##TABLE_END The followi...   \n",
              "7   Item 1A. Risk Factors ##TABLE_END The followi...   \n",
              "8   Item 1A. Risk Factors ##TABLE_END The followi...   \n",
              "9   Item 1A. Risk Factors ##TABLE_END Because of ...   \n",
              "\n",
              "                                                  1B  \\\n",
              "0          Item 1B. Unresolved Staff Comments None.    \n",
              "1          Item 1B. Unresolved Staff Comments None.    \n",
              "2   Item 1B. Unresolved Staff Comments ##TABLE_EN...   \n",
              "3   Item 1B. Unresolved Staff Comments ##TABLE_EN...   \n",
              "4   Item 1B. Unresolved Staff Comments ##TABLE_EN...   \n",
              "5   Item 1B. Unresolved Staff Comments ##TABLE_EN...   \n",
              "6   Item 1B. Unresolved Staff Comments ##TABLE_EN...   \n",
              "7   Item 1B. Unresolved Staff Comments ##TABLE_EN...   \n",
              "8   Item 1B. Unresolved Staff Comments ##TABLE_EN...   \n",
              "9   Item 1B. Unresolved Staff Comments ##TABLE_EN...   \n",
              "\n",
              "                                                   2  \\\n",
              "0   Item 2. Properties The Companys headquarters ...   \n",
              "1   Item 2. Properties The Companys headquarters ...   \n",
              "2   Item 2. Properties ##TABLE_END The Companys h...   \n",
              "3   Item 2. Properties ##TABLE_END The Companys h...   \n",
              "4   Item 2. Properties ##TABLE_END The Companys h...   \n",
              "5   Item 2. Properties ##TABLE_END The Companys h...   \n",
              "6   Item 2. Properties ##TABLE_END The Companys h...   \n",
              "7   Item 2. Properties ##TABLE_END The Companys h...   \n",
              "8   Item 2. Properties ##TABLE_END The Companys h...   \n",
              "9   Item 2. Properties ##TABLE_END The Companys h...   \n",
              "\n",
              "                                                   3  \\\n",
              "0   Item 3. Legal Proceedings The Company is subj...   \n",
              "1   Item 3. Legal Proceedings The Company is subj...   \n",
              "2   Item 3. Legal Proceedings ##TABLE_END The Com...   \n",
              "3   Item 3. Legal Proceedings ##TABLE_END The Com...   \n",
              "4   Item 3. Legal Proceedings ##TABLE_END The Com...   \n",
              "5   Item 3. Legal Proceedings ##TABLE_END The Com...   \n",
              "6   Item 3. Legal Proceedings ##TABLE_END The Com...   \n",
              "7   Item 3. Legal Proceedings ##TABLE_END The Com...   \n",
              "8   Item 3. Legal Proceedings ##TABLE_END The Com...   \n",
              "9   Item 3. Legal Proceedings ##TABLE_END The Com...   \n",
              "\n",
              "                                                   5  \\\n",
              "0   Item 5. Market for Registrants Common Equity,...   \n",
              "1   Item 5. Market for Registrants Common Equity,...   \n",
              "2   Item 5. Market for Registrants Common Equity,...   \n",
              "3   Item 5. Market for Registrants Common Equity,...   \n",
              "4   Item 5. Market for Registrants Common Equity,...   \n",
              "5   Item 5. Market for Registrants Common Equity,...   \n",
              "6   Item 5. Market for Registrants Common Equity,...   \n",
              "7   Item 5. Market for Registrants Common Equity,...   \n",
              "8   Item 5. Market for Registrants Common Equity,...   \n",
              "9   Item 5. Market for Registrants Common Equity,...   \n",
              "\n",
              "                                                   7  \\\n",
              "0   Item 7. Managements Discussion and Analysis o...   \n",
              "1   Item 7. Managements Discussion and Analysis o...   \n",
              "2   Item 7. Managements Discussion and Analysis o...   \n",
              "3   Item 7. Managements Discussion and Analysis o...   \n",
              "4   Item 7. Managements Discussion and Analysis o...   \n",
              "5   Item 7. Managements Discussion and Analysis o...   \n",
              "6   Item 7. Managements Discussion and Analysis o...   \n",
              "7   Item 7. Managements Discussion and Analysis o...   \n",
              "8   Item 7. Managements Discussion and Analysis o...   \n",
              "9   Item 7. Managements Discussion and Analysis o...   \n",
              "\n",
              "                                                  7A  \\\n",
              "0   Item 7A. Quantitative and Qualitative Disclos...   \n",
              "1   Item 7A. Quantitative and Qualitative Disclos...   \n",
              "2   Item 7A. Quantitative and Qualitative Disclos...   \n",
              "3   Item 7A. Quantitative and Qualitative Disclos...   \n",
              "4   Item 7A. Quantitative and Qualitative Disclos...   \n",
              "5   Item 7A. Quantitative and Qualitative Disclos...   \n",
              "6   Item 7A. Quantitative and Qualitative Disclos...   \n",
              "7   Item 7A. Quantitative and Qualitative Disclos...   \n",
              "8   Item 7A. Quantitative and Qualitative Disclos...   \n",
              "9   Item 7A. Quantitative and Qualitative Disclos...   \n",
              "\n",
              "                                                   8  \\\n",
              "0   Item 8. Financial Statements and Supplementar...   \n",
              "1   Item 8. Financial Statements and Supplementar...   \n",
              "2   Item 8. Financial Statements and Supplementar...   \n",
              "3   Item 8. Financial Statements and Supplementar...   \n",
              "4   Item 8. Financial Statements and Supplementar...   \n",
              "5   Item 8. Financial Statements and Supplementar...   \n",
              "6   Item 8. Financial Statements and Supplementar...   \n",
              "7   Item 8. Financial Statements and Supplementar...   \n",
              "8   Item 8. Financial Statements and Supplementar...   \n",
              "9   Item 8. Financial Statements and Supplementar...   \n",
              "\n",
              "                                                  9A  \n",
              "0   Item 9A. Controls and Procedures Evaluation o...  \n",
              "1   Item 9A. Controls and Procedures Evaluation o...  \n",
              "2   Item 9A. Controls and Procedures ##TABLE_END ...  \n",
              "3   Item 9A. Controls and Procedures ##TABLE_END ...  \n",
              "4   Item 9A. Controls and Procedures ##TABLE_END ...  \n",
              "5   Item 9A. Controls and Procedures ##TABLE_END ...  \n",
              "6   Item 9A. Controls and Procedures ##TABLE_END ...  \n",
              "7   Item 9A. Controls and Procedures ##TABLE_END ...  \n",
              "8   Item 9A. Controls and Procedures ##TABLE_END ...  \n",
              "9   Item 9A. Controls and Procedures ##TABLE_END ...  "
            ],
            "text/html": [
              "\n",
              "  <div id=\"df-6827fcb7-e98e-4de6-b637-4f531f6b2ade\">\n",
              "    <div class=\"colab-df-container\">\n",
              "      <div>\n",
              "<style scoped>\n",
              "    .dataframe tbody tr th:only-of-type {\n",
              "        vertical-align: middle;\n",
              "    }\n",
              "\n",
              "    .dataframe tbody tr th {\n",
              "        vertical-align: top;\n",
              "    }\n",
              "\n",
              "    .dataframe thead th {\n",
              "        text-align: right;\n",
              "    }\n",
              "</style>\n",
              "<table border=\"1\" class=\"dataframe\">\n",
              "  <thead>\n",
              "    <tr style=\"text-align: right;\">\n",
              "      <th></th>\n",
              "      <th>Company</th>\n",
              "      <th>Reporting_Date</th>\n",
              "      <th>1</th>\n",
              "      <th>1A</th>\n",
              "      <th>1B</th>\n",
              "      <th>2</th>\n",
              "      <th>3</th>\n",
              "      <th>5</th>\n",
              "      <th>7</th>\n",
              "      <th>7A</th>\n",
              "      <th>8</th>\n",
              "      <th>9A</th>\n",
              "    </tr>\n",
              "  </thead>\n",
              "  <tbody>\n",
              "    <tr>\n",
              "      <th>0</th>\n",
              "      <td>aapl</td>\n",
              "      <td>20210925</td>\n",
              "      <td>Item 1. Business Company Background The Compa...</td>\n",
              "      <td>Item 1A. Risk Factors The Companys business, ...</td>\n",
              "      <td>Item 1B. Unresolved Staff Comments None.</td>\n",
              "      <td>Item 2. Properties The Companys headquarters ...</td>\n",
              "      <td>Item 3. Legal Proceedings The Company is subj...</td>\n",
              "      <td>Item 5. Market for Registrants Common Equity,...</td>\n",
              "      <td>Item 7. Managements Discussion and Analysis o...</td>\n",
              "      <td>Item 7A. Quantitative and Qualitative Disclos...</td>\n",
              "      <td>Item 8. Financial Statements and Supplementar...</td>\n",
              "      <td>Item 9A. Controls and Procedures Evaluation o...</td>\n",
              "    </tr>\n",
              "    <tr>\n",
              "      <th>1</th>\n",
              "      <td>aapl</td>\n",
              "      <td>20200926</td>\n",
              "      <td>Item 1. Business Company Background The Compa...</td>\n",
              "      <td>Item 1A. Risk Factors The following discussio...</td>\n",
              "      <td>Item 1B. Unresolved Staff Comments None.</td>\n",
              "      <td>Item 2. Properties The Companys headquarters ...</td>\n",
              "      <td>Item 3. Legal Proceedings The Company is subj...</td>\n",
              "      <td>Item 5. Market for Registrants Common Equity,...</td>\n",
              "      <td>Item 7. Managements Discussion and Analysis o...</td>\n",
              "      <td>Item 7A. Quantitative and Qualitative Disclos...</td>\n",
              "      <td>Item 8. Financial Statements and Supplementar...</td>\n",
              "      <td>Item 9A. Controls and Procedures Evaluation o...</td>\n",
              "    </tr>\n",
              "    <tr>\n",
              "      <th>2</th>\n",
              "      <td>a10-</td>\n",
              "      <td>99282019</td>\n",
              "      <td>Item 1. Business ##TABLE_END Company Backgrou...</td>\n",
              "      <td>Item 1A. Risk Factors ##TABLE_END The followi...</td>\n",
              "      <td>Item 1B. Unresolved Staff Comments ##TABLE_EN...</td>\n",
              "      <td>Item 2. Properties ##TABLE_END The Companys h...</td>\n",
              "      <td>Item 3. Legal Proceedings ##TABLE_END The Com...</td>\n",
              "      <td>Item 5. Market for Registrants Common Equity,...</td>\n",
              "      <td>Item 7. Managements Discussion and Analysis o...</td>\n",
              "      <td>Item 7A. Quantitative and Qualitative Disclos...</td>\n",
              "      <td>Item 8. Financial Statements and Supplementar...</td>\n",
              "      <td>Item 9A. Controls and Procedures ##TABLE_END ...</td>\n",
              "    </tr>\n",
              "    <tr>\n",
              "      <th>3</th>\n",
              "      <td>a10-</td>\n",
              "      <td>89292018</td>\n",
              "      <td>Item 1. Business ##TABLE_END Company Backgrou...</td>\n",
              "      <td>Item 1A. Risk Factors ##TABLE_END The followi...</td>\n",
              "      <td>Item 1B. Unresolved Staff Comments ##TABLE_EN...</td>\n",
              "      <td>Item 2. Properties ##TABLE_END The Companys h...</td>\n",
              "      <td>Item 3. Legal Proceedings ##TABLE_END The Com...</td>\n",
              "      <td>Item 5. Market for Registrants Common Equity,...</td>\n",
              "      <td>Item 7. Managements Discussion and Analysis o...</td>\n",
              "      <td>Item 7A. Quantitative and Qualitative Disclos...</td>\n",
              "      <td>Item 8. Financial Statements and Supplementar...</td>\n",
              "      <td>Item 9A. Controls and Procedures ##TABLE_END ...</td>\n",
              "    </tr>\n",
              "    <tr>\n",
              "      <th>4</th>\n",
              "      <td>a10-</td>\n",
              "      <td>79302017</td>\n",
              "      <td>Item 1. Business ##TABLE_END Company Backgrou...</td>\n",
              "      <td>Item 1A. Risk Factors ##TABLE_END The followi...</td>\n",
              "      <td>Item 1B. Unresolved Staff Comments ##TABLE_EN...</td>\n",
              "      <td>Item 2. Properties ##TABLE_END The Companys h...</td>\n",
              "      <td>Item 3. Legal Proceedings ##TABLE_END The Com...</td>\n",
              "      <td>Item 5. Market for Registrants Common Equity,...</td>\n",
              "      <td>Item 7. Managements Discussion and Analysis o...</td>\n",
              "      <td>Item 7A. Quantitative and Qualitative Disclos...</td>\n",
              "      <td>Item 8. Financial Statements and Supplementar...</td>\n",
              "      <td>Item 9A. Controls and Procedures ##TABLE_END ...</td>\n",
              "    </tr>\n",
              "    <tr>\n",
              "      <th>5</th>\n",
              "      <td>a201</td>\n",
              "      <td>k9242016</td>\n",
              "      <td>Item 1. Business ##TABLE_END Company Backgrou...</td>\n",
              "      <td>Item 1A. Risk Factors ##TABLE_END The followi...</td>\n",
              "      <td>Item 1B. Unresolved Staff Comments ##TABLE_EN...</td>\n",
              "      <td>Item 2. Properties ##TABLE_END The Companys h...</td>\n",
              "      <td>Item 3. Legal Proceedings ##TABLE_END The Com...</td>\n",
              "      <td>Item 5. Market for Registrants Common Equity,...</td>\n",
              "      <td>Item 7. Managements Discussion and Analysis o...</td>\n",
              "      <td>Item 7A. Quantitative and Qualitative Disclos...</td>\n",
              "      <td>Item 8. Financial Statements and Supplementar...</td>\n",
              "      <td>Item 9A. Controls and Procedures ##TABLE_END ...</td>\n",
              "    </tr>\n",
              "    <tr>\n",
              "      <th>6</th>\n",
              "      <td>d170</td>\n",
              "      <td>7062d10k</td>\n",
              "      <td>Item 1. Business ##TABLE_END Company Backgrou...</td>\n",
              "      <td>Item 1A. Risk Factors ##TABLE_END The followi...</td>\n",
              "      <td>Item 1B. Unresolved Staff Comments ##TABLE_EN...</td>\n",
              "      <td>Item 2. Properties ##TABLE_END The Companys h...</td>\n",
              "      <td>Item 3. Legal Proceedings ##TABLE_END The Com...</td>\n",
              "      <td>Item 5. Market for Registrants Common Equity,...</td>\n",
              "      <td>Item 7. Managements Discussion and Analysis o...</td>\n",
              "      <td>Item 7A. Quantitative and Qualitative Disclos...</td>\n",
              "      <td>Item 8. Financial Statements and Supplementar...</td>\n",
              "      <td>Item 9A. Controls and Procedures ##TABLE_END ...</td>\n",
              "    </tr>\n",
              "    <tr>\n",
              "      <th>7</th>\n",
              "      <td>d783</td>\n",
              "      <td>3162d10k</td>\n",
              "      <td>Item 1. Business ##TABLE_END Company Backgrou...</td>\n",
              "      <td>Item 1A. Risk Factors ##TABLE_END The followi...</td>\n",
              "      <td>Item 1B. Unresolved Staff Comments ##TABLE_EN...</td>\n",
              "      <td>Item 2. Properties ##TABLE_END The Companys h...</td>\n",
              "      <td>Item 3. Legal Proceedings ##TABLE_END The Com...</td>\n",
              "      <td>Item 5. Market for Registrants Common Equity,...</td>\n",
              "      <td>Item 7. Managements Discussion and Analysis o...</td>\n",
              "      <td>Item 7A. Quantitative and Qualitative Disclos...</td>\n",
              "      <td>Item 8. Financial Statements and Supplementar...</td>\n",
              "      <td>Item 9A. Controls and Procedures ##TABLE_END ...</td>\n",
              "    </tr>\n",
              "    <tr>\n",
              "      <th>8</th>\n",
              "      <td>d590</td>\n",
              "      <td>0790d10k</td>\n",
              "      <td>Item 1. Business ##TABLE_END Company Backgrou...</td>\n",
              "      <td>Item 1A. Risk Factors ##TABLE_END The followi...</td>\n",
              "      <td>Item 1B. Unresolved Staff Comments ##TABLE_EN...</td>\n",
              "      <td>Item 2. Properties ##TABLE_END The Companys h...</td>\n",
              "      <td>Item 3. Legal Proceedings ##TABLE_END The Com...</td>\n",
              "      <td>Item 5. Market for Registrants Common Equity,...</td>\n",
              "      <td>Item 7. Managements Discussion and Analysis o...</td>\n",
              "      <td>Item 7A. Quantitative and Qualitative Disclos...</td>\n",
              "      <td>Item 8. Financial Statements and Supplementar...</td>\n",
              "      <td>Item 9A. Controls and Procedures ##TABLE_END ...</td>\n",
              "    </tr>\n",
              "    <tr>\n",
              "      <th>9</th>\n",
              "      <td>d411</td>\n",
              "      <td>1355d10k</td>\n",
              "      <td>Item 1. Business ##TABLE_END Company Backgrou...</td>\n",
              "      <td>Item 1A. Risk Factors ##TABLE_END Because of ...</td>\n",
              "      <td>Item 1B. Unresolved Staff Comments ##TABLE_EN...</td>\n",
              "      <td>Item 2. Properties ##TABLE_END The Companys h...</td>\n",
              "      <td>Item 3. Legal Proceedings ##TABLE_END The Com...</td>\n",
              "      <td>Item 5. Market for Registrants Common Equity,...</td>\n",
              "      <td>Item 7. Managements Discussion and Analysis o...</td>\n",
              "      <td>Item 7A. Quantitative and Qualitative Disclos...</td>\n",
              "      <td>Item 8. Financial Statements and Supplementar...</td>\n",
              "      <td>Item 9A. Controls and Procedures ##TABLE_END ...</td>\n",
              "    </tr>\n",
              "  </tbody>\n",
              "</table>\n",
              "</div>\n",
              "      <button class=\"colab-df-convert\" onclick=\"convertToInteractive('df-6827fcb7-e98e-4de6-b637-4f531f6b2ade')\"\n",
              "              title=\"Convert this dataframe to an interactive table.\"\n",
              "              style=\"display:none;\">\n",
              "        \n",
              "  <svg xmlns=\"http://www.w3.org/2000/svg\" height=\"24px\"viewBox=\"0 0 24 24\"\n",
              "       width=\"24px\">\n",
              "    <path d=\"M0 0h24v24H0V0z\" fill=\"none\"/>\n",
              "    <path d=\"M18.56 5.44l.94 2.06.94-2.06 2.06-.94-2.06-.94-.94-2.06-.94 2.06-2.06.94zm-11 1L8.5 8.5l.94-2.06 2.06-.94-2.06-.94L8.5 2.5l-.94 2.06-2.06.94zm10 10l.94 2.06.94-2.06 2.06-.94-2.06-.94-.94-2.06-.94 2.06-2.06.94z\"/><path d=\"M17.41 7.96l-1.37-1.37c-.4-.4-.92-.59-1.43-.59-.52 0-1.04.2-1.43.59L10.3 9.45l-7.72 7.72c-.78.78-.78 2.05 0 2.83L4 21.41c.39.39.9.59 1.41.59.51 0 1.02-.2 1.41-.59l7.78-7.78 2.81-2.81c.8-.78.8-2.07 0-2.86zM5.41 20L4 18.59l7.72-7.72 1.47 1.35L5.41 20z\"/>\n",
              "  </svg>\n",
              "      </button>\n",
              "      \n",
              "  <style>\n",
              "    .colab-df-container {\n",
              "      display:flex;\n",
              "      flex-wrap:wrap;\n",
              "      gap: 12px;\n",
              "    }\n",
              "\n",
              "    .colab-df-convert {\n",
              "      background-color: #E8F0FE;\n",
              "      border: none;\n",
              "      border-radius: 50%;\n",
              "      cursor: pointer;\n",
              "      display: none;\n",
              "      fill: #1967D2;\n",
              "      height: 32px;\n",
              "      padding: 0 0 0 0;\n",
              "      width: 32px;\n",
              "    }\n",
              "\n",
              "    .colab-df-convert:hover {\n",
              "      background-color: #E2EBFA;\n",
              "      box-shadow: 0px 1px 2px rgba(60, 64, 67, 0.3), 0px 1px 3px 1px rgba(60, 64, 67, 0.15);\n",
              "      fill: #174EA6;\n",
              "    }\n",
              "\n",
              "    [theme=dark] .colab-df-convert {\n",
              "      background-color: #3B4455;\n",
              "      fill: #D2E3FC;\n",
              "    }\n",
              "\n",
              "    [theme=dark] .colab-df-convert:hover {\n",
              "      background-color: #434B5C;\n",
              "      box-shadow: 0px 1px 3px 1px rgba(0, 0, 0, 0.15);\n",
              "      filter: drop-shadow(0px 1px 2px rgba(0, 0, 0, 0.3));\n",
              "      fill: #FFFFFF;\n",
              "    }\n",
              "  </style>\n",
              "\n",
              "      <script>\n",
              "        const buttonEl =\n",
              "          document.querySelector('#df-6827fcb7-e98e-4de6-b637-4f531f6b2ade button.colab-df-convert');\n",
              "        buttonEl.style.display =\n",
              "          google.colab.kernel.accessAllowed ? 'block' : 'none';\n",
              "\n",
              "        async function convertToInteractive(key) {\n",
              "          const element = document.querySelector('#df-6827fcb7-e98e-4de6-b637-4f531f6b2ade');\n",
              "          const dataTable =\n",
              "            await google.colab.kernel.invokeFunction('convertToInteractive',\n",
              "                                                     [key], {});\n",
              "          if (!dataTable) return;\n",
              "\n",
              "          const docLinkHtml = 'Like what you see? Visit the ' +\n",
              "            '<a target=\"_blank\" href=https://colab.research.google.com/notebooks/data_table.ipynb>data table notebook</a>'\n",
              "            + ' to learn more about interactive tables.';\n",
              "          element.innerHTML = '';\n",
              "          dataTable['output_type'] = 'display_data';\n",
              "          await google.colab.output.renderOutput(dataTable, element);\n",
              "          const docLink = document.createElement('div');\n",
              "          docLink.innerHTML = docLinkHtml;\n",
              "          element.appendChild(docLink);\n",
              "        }\n",
              "      </script>\n",
              "    </div>\n",
              "  </div>\n",
              "  "
            ]
          },
          "metadata": {},
          "execution_count": 18
        }
      ]
    },
    {
      "cell_type": "markdown",
      "source": [
        "**Note**\n",
        "\n",
        "Make neccessary changes in Company Name and Reporting_Date before making a csv."
      ],
      "metadata": {
        "id": "1MH-seeuKLvt"
      }
    },
    {
      "cell_type": "markdown",
      "source": [
        "#### 4. To csv"
      ],
      "metadata": {
        "id": "rnMjIWaYKlQp"
      }
    },
    {
      "cell_type": "code",
      "source": [
        "from google.colab import drive\n",
        "drive.mount('/content/drive')"
      ],
      "metadata": {
        "colab": {
          "base_uri": "https://localhost:8080/"
        },
        "id": "FBIyJc4asb8K",
        "outputId": "d04c37a6-cd2d-4ee8-d450-efd3128134ea"
      },
      "execution_count": null,
      "outputs": [
        {
          "output_type": "stream",
          "name": "stdout",
          "text": [
            "Mounted at /content/drive\n"
          ]
        }
      ]
    },
    {
      "cell_type": "code",
      "source": [
        "# Creating a csv on G-Drive\n",
        "\n",
        "results.to_csv('/content/drive/MyDrive/Documents/Market Intelligence/tesla.csv')"
      ],
      "metadata": {
        "id": "UHmvNGXor6N0"
      },
      "execution_count": null,
      "outputs": []
    },
    {
      "cell_type": "markdown",
      "source": [
        "#### 5. Links"
      ],
      "metadata": {
        "id": "lypgtBMgB_ne"
      }
    },
    {
      "cell_type": "markdown",
      "source": [
        "Tesla\n",
        "\n",
        "    \"https://www.sec.gov/ix?doc=/Archives/edgar/data/0001318605/000095017022000796/tsla-20211231.htm\",\n",
        "    \"https://www.sec.gov/ix?doc=/Archives/edgar/data/0001318605/000156459021004599/tsla-10k_20201231.htm\",\n",
        "    \"https://www.sec.gov/ix?doc=/Archives/edgar/data/0001318605/000156459020004475/tsla-10k_20191231.htm\",\n",
        "    \"https://www.sec.gov/Archives/edgar/data/1318605/000156459018002956/tsla-10k_20171231.htm\",\n",
        "    \"https://www.sec.gov/Archives/edgar/data/1318605/000156459019003165/tsla-10k_20181231.htm\""
      ],
      "metadata": {
        "id": "zxGtJKTkIm8e"
      }
    },
    {
      "cell_type": "markdown",
      "source": [
        "Apple\n",
        "\n",
        "    \"https://www.sec.gov/Archives/edgar/data/320193/000032019321000105/aapl-20210925.htm\",\n",
        "    \"https://www.sec.gov/Archives/edgar/data/320193/000032019320000096/aapl-20200926.htm\",\n",
        "    \"https://www.sec.gov/Archives/edgar/data/320193/000032019319000119/a10-k20199282019.htm\",\n",
        "    \"https://www.sec.gov/Archives/edgar/data/320193/000032019318000145/a10-k20189292018.htm\",\n",
        "    \"https://www.sec.gov/Archives/edgar/data/320193/000032019317000070/a10-k20179302017.htm\",\n",
        "    \"https://www.sec.gov/Archives/edgar/data/320193/000162828016020309/a201610-k9242016.htm\",\n",
        "    \"https://www.sec.gov/Archives/edgar/data/320193/000119312515356351/d17062d10k.htm\",\n",
        "    \"https://www.sec.gov/Archives/edgar/data/320193/000119312514383437/d783162d10k.htm\",\n",
        "    \"https://www.sec.gov/Archives/edgar/data/320193/000119312513416534/d590790d10k.htm\",\n",
        "    \"https://www.sec.gov/Archives/edgar/data/320193/000119312512444068/d411355d10k.htm\""
      ],
      "metadata": {
        "id": "Cg-MAyZsCB3Q"
      }
    }
  ]
}