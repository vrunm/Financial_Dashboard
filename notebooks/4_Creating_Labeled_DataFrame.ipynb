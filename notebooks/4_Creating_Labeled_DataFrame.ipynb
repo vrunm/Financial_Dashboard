{
  "nbformat": 4,
  "nbformat_minor": 0,
  "metadata": {
    "colab": {
      "provenance": [],
      "collapsed_sections": [
        "e4tvTul-yM1P",
        "2S85kcFCy-AY",
        "vkiQG-pJyXNn",
        "yNn83C31zTW2"
      ],
      "authorship_tag": "ABX9TyPmPis6Lo/BZYijxpM0DCqk",
      "include_colab_link": true
    },
    "kernelspec": {
      "name": "python3",
      "display_name": "Python 3"
    },
    "language_info": {
      "name": "python"
    }
  },
  "cells": [
    {
      "cell_type": "markdown",
      "metadata": {
        "id": "view-in-github",
        "colab_type": "text"
      },
      "source": [
        "<a href=\"https://colab.research.google.com/github/utkarshbelkhede/Financial_Dashboard/blob/master/notebooks/4_Creating_Labeled_DataFrame.ipynb\" target=\"_parent\"><img src=\"https://colab.research.google.com/assets/colab-badge.svg\" alt=\"Open In Colab\"/></a>"
      ]
    },
    {
      "cell_type": "markdown",
      "source": [
        "#### 1. Setting up Working Directory"
      ],
      "metadata": {
        "id": "e4tvTul-yM1P"
      }
    },
    {
      "cell_type": "code",
      "execution_count": null,
      "metadata": {
        "id": "T0PRSf_-D4SY",
        "colab": {
          "base_uri": "https://localhost:8080/"
        },
        "outputId": "7b8a1205-c029-4d83-b5ba-37ccfd442183"
      },
      "outputs": [
        {
          "output_type": "stream",
          "name": "stdout",
          "text": [
            "Mounted at /content/drive\n"
          ]
        }
      ],
      "source": [
        "from google.colab import drive\n",
        "drive.mount('/content/drive')"
      ]
    },
    {
      "cell_type": "code",
      "source": [
        "# Working Directory\n",
        "import os\n",
        "\n",
        "os.chdir('/content/drive/MyDrive/Documents/Market Intelligence')"
      ],
      "metadata": {
        "id": "Ijle1gwZD-Yu"
      },
      "execution_count": null,
      "outputs": []
    },
    {
      "cell_type": "markdown",
      "source": [
        "#### 2. Importing 10-K Filing"
      ],
      "metadata": {
        "id": "2S85kcFCy-AY"
      }
    },
    {
      "cell_type": "code",
      "source": [
        "import pandas as pd\n",
        "import numpy as np"
      ],
      "metadata": {
        "id": "5b4Be8LmEAMd"
      },
      "execution_count": null,
      "outputs": []
    },
    {
      "cell_type": "code",
      "source": [
        "text_df = pd.read_csv(\"./datasets/final_combined_dataset.csv\")\n",
        "text_df = text_df.iloc[:,3:]\n",
        "text_df.head(1)"
      ],
      "metadata": {
        "id": "-PEcOEXyIfTw"
      },
      "execution_count": null,
      "outputs": []
    },
    {
      "cell_type": "code",
      "source": [
        "def fine_tune_df(df1, df2, columns):\n",
        "  df1 = df1.to_numpy()\n",
        "  df1 = df1.reshape((-1, 1))\n",
        "  df1 = pd.DataFrame(df1, columns=[columns[0]])\n",
        "\n",
        "  df2 = df2.to_numpy()\n",
        "  df2 = df2.reshape((-1, 1))\n",
        "  df2 = pd.DataFrame(df2, columns=[columns[1]])\n",
        "\n",
        "  return pd.concat([df1, df2], axis=1)"
      ],
      "metadata": {
        "id": "77KZ7Fz0T1m8"
      },
      "execution_count": null,
      "outputs": []
    },
    {
      "cell_type": "markdown",
      "source": [
        "#### 3. Creating Labeled Dataframe for Summarization"
      ],
      "metadata": {
        "id": "vkiQG-pJyXNn"
      }
    },
    {
      "cell_type": "code",
      "source": [
        "columns = [\"text\", \"summary\"]\n",
        "\n",
        "summary_df = pd.read_csv(\"./datasets/summarized_dataframe_sshleifer_distilbart-cnn-12-6.csv\")\n",
        "summary_df = summary_df.iloc[:,3:]\n",
        "summary_df.head(1)"
      ],
      "metadata": {
        "id": "0lApH3fgIWxp"
      },
      "execution_count": null,
      "outputs": []
    },
    {
      "cell_type": "code",
      "source": [
        "final = fine_tune_df(text_df, summary_df, columns)\n",
        "final.to_csv('./datasets/summarization_final_labeled_data.csv', index=False)\n",
        "pd.read_csv('./datasets/summarization_final_labeled_data.csv').head(1)"
      ],
      "metadata": {
        "id": "Z0ivOtUf0FR6"
      },
      "execution_count": null,
      "outputs": []
    },
    {
      "cell_type": "markdown",
      "source": [
        "#### 4. Creating Labeled Dataframe for Classification"
      ],
      "metadata": {
        "id": "yNn83C31zTW2"
      }
    },
    {
      "cell_type": "code",
      "source": [
        "columns = [\"sentence\", \"label\"]\n",
        "\n",
        "sentement_df = pd.read_csv('./datasets/labeled_sentement_analysis.csv')\n",
        "sentement_df = sentement_df.iloc[:,3:]\n",
        "sentement_df.head(1)"
      ],
      "metadata": {
        "id": "SZ9Ns3u1iH6n"
      },
      "execution_count": null,
      "outputs": []
    },
    {
      "cell_type": "code",
      "source": [
        "final = fine_tune_df(summary_df, sentement_df, columns)\n",
        "final.to_csv('./datasets/sentement_analysis_final_labeled_data.csv', index=False)\n",
        "pd.read_csv('./datasets/sentement_analysis_final_labeled_data.csv').head(1)"
      ],
      "metadata": {
        "colab": {
          "base_uri": "https://localhost:8080/",
          "height": 206
        },
        "id": "O5210hh3VHgs",
        "outputId": "8407690c-1b3b-4490-f491-9ae96a749846"
      },
      "execution_count": null,
      "outputs": [
        {
          "output_type": "execute_result",
          "data": {
            "text/plain": [
              "                                            sentence     label\n",
              "0   The persistence of COVID-19, and the preventa...  NEGATIVE\n",
              "1   Item 1B.  Unresolved Staff Comments None. Ite...  NEGATIVE\n",
              "2   Our corporate headquarters are located in Men...  POSITIVE\n",
              "3   Meta Platforms Ireland is subject to litigati...  NEGATIVE\n",
              "4   Meta Platforms, Inc. has never declared or pa...  NEGATIVE"
            ],
            "text/html": [
              "\n",
              "  <div id=\"df-6996abeb-a42f-4b95-9365-22cb3b30877d\">\n",
              "    <div class=\"colab-df-container\">\n",
              "      <div>\n",
              "<style scoped>\n",
              "    .dataframe tbody tr th:only-of-type {\n",
              "        vertical-align: middle;\n",
              "    }\n",
              "\n",
              "    .dataframe tbody tr th {\n",
              "        vertical-align: top;\n",
              "    }\n",
              "\n",
              "    .dataframe thead th {\n",
              "        text-align: right;\n",
              "    }\n",
              "</style>\n",
              "<table border=\"1\" class=\"dataframe\">\n",
              "  <thead>\n",
              "    <tr style=\"text-align: right;\">\n",
              "      <th></th>\n",
              "      <th>sentence</th>\n",
              "      <th>label</th>\n",
              "    </tr>\n",
              "  </thead>\n",
              "  <tbody>\n",
              "    <tr>\n",
              "      <th>0</th>\n",
              "      <td>The persistence of COVID-19, and the preventa...</td>\n",
              "      <td>NEGATIVE</td>\n",
              "    </tr>\n",
              "    <tr>\n",
              "      <th>1</th>\n",
              "      <td>Item 1B.  Unresolved Staff Comments None. Ite...</td>\n",
              "      <td>NEGATIVE</td>\n",
              "    </tr>\n",
              "    <tr>\n",
              "      <th>2</th>\n",
              "      <td>Our corporate headquarters are located in Men...</td>\n",
              "      <td>POSITIVE</td>\n",
              "    </tr>\n",
              "    <tr>\n",
              "      <th>3</th>\n",
              "      <td>Meta Platforms Ireland is subject to litigati...</td>\n",
              "      <td>NEGATIVE</td>\n",
              "    </tr>\n",
              "    <tr>\n",
              "      <th>4</th>\n",
              "      <td>Meta Platforms, Inc. has never declared or pa...</td>\n",
              "      <td>NEGATIVE</td>\n",
              "    </tr>\n",
              "  </tbody>\n",
              "</table>\n",
              "</div>\n",
              "      <button class=\"colab-df-convert\" onclick=\"convertToInteractive('df-6996abeb-a42f-4b95-9365-22cb3b30877d')\"\n",
              "              title=\"Convert this dataframe to an interactive table.\"\n",
              "              style=\"display:none;\">\n",
              "        \n",
              "  <svg xmlns=\"http://www.w3.org/2000/svg\" height=\"24px\"viewBox=\"0 0 24 24\"\n",
              "       width=\"24px\">\n",
              "    <path d=\"M0 0h24v24H0V0z\" fill=\"none\"/>\n",
              "    <path d=\"M18.56 5.44l.94 2.06.94-2.06 2.06-.94-2.06-.94-.94-2.06-.94 2.06-2.06.94zm-11 1L8.5 8.5l.94-2.06 2.06-.94-2.06-.94L8.5 2.5l-.94 2.06-2.06.94zm10 10l.94 2.06.94-2.06 2.06-.94-2.06-.94-.94-2.06-.94 2.06-2.06.94z\"/><path d=\"M17.41 7.96l-1.37-1.37c-.4-.4-.92-.59-1.43-.59-.52 0-1.04.2-1.43.59L10.3 9.45l-7.72 7.72c-.78.78-.78 2.05 0 2.83L4 21.41c.39.39.9.59 1.41.59.51 0 1.02-.2 1.41-.59l7.78-7.78 2.81-2.81c.8-.78.8-2.07 0-2.86zM5.41 20L4 18.59l7.72-7.72 1.47 1.35L5.41 20z\"/>\n",
              "  </svg>\n",
              "      </button>\n",
              "      \n",
              "  <style>\n",
              "    .colab-df-container {\n",
              "      display:flex;\n",
              "      flex-wrap:wrap;\n",
              "      gap: 12px;\n",
              "    }\n",
              "\n",
              "    .colab-df-convert {\n",
              "      background-color: #E8F0FE;\n",
              "      border: none;\n",
              "      border-radius: 50%;\n",
              "      cursor: pointer;\n",
              "      display: none;\n",
              "      fill: #1967D2;\n",
              "      height: 32px;\n",
              "      padding: 0 0 0 0;\n",
              "      width: 32px;\n",
              "    }\n",
              "\n",
              "    .colab-df-convert:hover {\n",
              "      background-color: #E2EBFA;\n",
              "      box-shadow: 0px 1px 2px rgba(60, 64, 67, 0.3), 0px 1px 3px 1px rgba(60, 64, 67, 0.15);\n",
              "      fill: #174EA6;\n",
              "    }\n",
              "\n",
              "    [theme=dark] .colab-df-convert {\n",
              "      background-color: #3B4455;\n",
              "      fill: #D2E3FC;\n",
              "    }\n",
              "\n",
              "    [theme=dark] .colab-df-convert:hover {\n",
              "      background-color: #434B5C;\n",
              "      box-shadow: 0px 1px 3px 1px rgba(0, 0, 0, 0.15);\n",
              "      filter: drop-shadow(0px 1px 2px rgba(0, 0, 0, 0.3));\n",
              "      fill: #FFFFFF;\n",
              "    }\n",
              "  </style>\n",
              "\n",
              "      <script>\n",
              "        const buttonEl =\n",
              "          document.querySelector('#df-6996abeb-a42f-4b95-9365-22cb3b30877d button.colab-df-convert');\n",
              "        buttonEl.style.display =\n",
              "          google.colab.kernel.accessAllowed ? 'block' : 'none';\n",
              "\n",
              "        async function convertToInteractive(key) {\n",
              "          const element = document.querySelector('#df-6996abeb-a42f-4b95-9365-22cb3b30877d');\n",
              "          const dataTable =\n",
              "            await google.colab.kernel.invokeFunction('convertToInteractive',\n",
              "                                                     [key], {});\n",
              "          if (!dataTable) return;\n",
              "\n",
              "          const docLinkHtml = 'Like what you see? Visit the ' +\n",
              "            '<a target=\"_blank\" href=https://colab.research.google.com/notebooks/data_table.ipynb>data table notebook</a>'\n",
              "            + ' to learn more about interactive tables.';\n",
              "          element.innerHTML = '';\n",
              "          dataTable['output_type'] = 'display_data';\n",
              "          await google.colab.output.renderOutput(dataTable, element);\n",
              "          const docLink = document.createElement('div');\n",
              "          docLink.innerHTML = docLinkHtml;\n",
              "          element.appendChild(docLink);\n",
              "        }\n",
              "      </script>\n",
              "    </div>\n",
              "  </div>\n",
              "  "
            ]
          },
          "metadata": {},
          "execution_count": 37
        }
      ]
    }
  ]
}